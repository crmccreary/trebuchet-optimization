{
 "metadata": {
  "name": "Efficiency"
 },
 "nbformat": 3,
 "nbformat_minor": 0,
 "worksheets": [
  {
   "cells": [
    {
     "cell_type": "markdown",
     "metadata": {},
     "source": [
      "The most efficient mechanism for a trebuchet would, clearly, be able to transform \n",
      "all of the initial potential energy into kinetic energy of the projectile"
     ]
    },
    {
     "cell_type": "code",
     "collapsed": false,
     "input": [
      "from sympy.physics.units import *\n",
      "import math"
     ],
     "language": "python",
     "metadata": {},
     "outputs": [],
     "prompt_number": 14
    },
    {
     "cell_type": "code",
     "collapsed": false,
     "input": [
      "m_1=210*kg\n",
      "m_2=0.2*kg\n",
      "L_4=0.19*m\n",
      "L_1=0.087*m\n",
      "theta=3*math.pi/4"
     ],
     "language": "python",
     "metadata": {},
     "outputs": [],
     "prompt_number": 15
    },
    {
     "cell_type": "code",
     "collapsed": false,
     "input": [
      "h=L_1*(1+math.sin(theta-math.pi/2))\n",
      "h"
     ],
     "language": "python",
     "metadata": {},
     "outputs": [
      {
       "latex": [
        "$$0.14851828996323 m$$"
       ],
       "output_type": "pyout",
       "png": "[encoded data removed]",
       "prompt_number": 20,
       "text": [
        "0.14851828996323\u22c5m"
       ]
      }
     ],
     "prompt_number": 20
    },
    {
     "cell_type": "code",
     "collapsed": false,
     "input": [
      "V=m_1*9.81*m/s**2*h\n",
      "V"
     ],
     "language": "python",
     "metadata": {},
     "outputs": [
      {
       "latex": [
        "$$305.962529153249 \\frac{kg m^{2}}{s^{2}}$$"
       ],
       "output_type": "pyout",
       "png": "[encoded data removed]",
       "prompt_number": 17,
       "text": [
        "\n",
        "                     2\n",
        "305.962529153249\u22c5kg\u22c5m \n",
        "\u2500\u2500\u2500\u2500\u2500\u2500\u2500\u2500\u2500\u2500\u2500\u2500\u2500\u2500\u2500\u2500\u2500\u2500\u2500\u2500\u2500\u2500\n",
        "           2          \n",
        "          s           "
       ]
      }
     ],
     "prompt_number": 17
    },
    {
     "cell_type": "markdown",
     "metadata": {},
     "source": [
      "Thus, if the mass of the counterweight is initially at a height h above its lowest point,  the \n",
      "maximum possible range that could be attained is obtained by equating the initial \n",
      "potential energy in the counterweight with the kinetic energy in the projectile at the start \n",
      "of the trajectory, yielding"
     ]
    },
    {
     "cell_type": "code",
     "collapsed": false,
     "input": [
      "R_m=2*m_1/m_2*h\n",
      "R_m"
     ],
     "language": "python",
     "metadata": {},
     "outputs": [
      {
       "latex": [
        "$$311.888408922782 m$$"
       ],
       "output_type": "pyout",
       "png": "[encoded data removed]",
       "prompt_number": 18,
       "text": [
        "311.888408922782\u22c5m"
       ]
      }
     ],
     "prompt_number": 18
    },
    {
     "cell_type": "markdown",
     "metadata": {},
     "source": [
      "This assumes that there is no kinetic energy in the trebuchet after release, no friction, no air resistance, etc. So our optimum design is"
     ]
    },
    {
     "cell_type": "code",
     "collapsed": false,
     "input": [
      "Eff=145.6*m/R_m\n",
      "print(Eff)"
     ],
     "language": "python",
     "metadata": {},
     "outputs": [
      {
       "output_type": "stream",
       "stream": "stdout",
       "text": [
        "0.466833636116461\n"
       ]
      }
     ],
     "prompt_number": 21
    },
    {
     "cell_type": "code",
     "collapsed": false,
     "input": [],
     "language": "python",
     "metadata": {},
     "outputs": [],
     "prompt_number": 19
    }
   ],
   "metadata": {}
  }
 ]
}