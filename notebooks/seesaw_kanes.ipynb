{
 "metadata": {
  "name": "seesaw_kanes"
 },
 "nbformat": 3,
 "nbformat_minor": 0,
 "worksheets": [
  {
   "cells": [
    {
     "cell_type": "code",
     "collapsed": false,
     "input": [
      "from IPython.core.display import Image\n",
      "Image(filename='seesaw.jpg')"
     ],
     "language": "python",
     "metadata": {},
     "outputs": [
      {
       "jpeg": "[encoded data removed]",
       "output_type": "pyout",
       "prompt_number": 1,
       "text": [
        "<IPython.core.display.Image object at 0x49dee90>"
       ]
      }
     ],
     "prompt_number": 1
    },
    {
     "cell_type": "code",
     "collapsed": true,
     "input": [
      "from sympy.physics.mechanics import *"
     ],
     "language": "python",
     "metadata": {},
     "outputs": [],
     "prompt_number": 2
    },
    {
     "cell_type": "markdown",
     "metadata": {},
     "source": [
      "Recall that using the Euler-LaGrange approach, we would get\n",
      "$$- 1.0 L_{1}^{2} m_{1} \\frac{\\partial^{2}}{\\partial^{2} t}  \\theta{\\left (t \\right )} - L_{1} g m_{1} \\sin{\\left (\\theta{\\left (t \\right )} \\right )} - 1.0 L_{2}^{2} m_{2} \\frac{\\partial^{2}}{\\partial^{2} t}  \\theta{\\left (t \\right )} + L_{2} g m_{2} \\sin{\\left (\\theta{\\left (t \\right )} \\right )}$$\n",
      "\n",
      "The Euler-LaGrange method becomes increasingly cumbersome as the number of variables increases. In this notebook, we will be using Kane's method (Kane, Levinson, Dynamics: Theory and Applications). Kane's method scales well with increasing degrees of freedom.\n",
      "\n",
      "We first define our generalized coordinates and generalized speeds:"
     ]
    },
    {
     "cell_type": "code",
     "collapsed": false,
     "input": [
      "theta = dynamicsymbols('theta')"
     ],
     "language": "python",
     "metadata": {},
     "outputs": [],
     "prompt_number": 3
    },
    {
     "cell_type": "code",
     "collapsed": true,
     "input": [
      "theta_d = dynamicsymbols('theta' , 1)"
     ],
     "language": "python",
     "metadata": {},
     "outputs": [],
     "prompt_number": 4
    },
    {
     "cell_type": "code",
     "collapsed": true,
     "input": [
      "theta_v = dynamicsymbols('theta_v')"
     ],
     "language": "python",
     "metadata": {},
     "outputs": [],
     "prompt_number": 5
    },
    {
     "cell_type": "code",
     "collapsed": true,
     "input": [
      "theta_v_d = dynamicsymbols('theta_v', 1)"
     ],
     "language": "python",
     "metadata": {},
     "outputs": [],
     "prompt_number": 6
    },
    {
     "cell_type": "markdown",
     "metadata": {},
     "source": [
      "Our variables are \n",
      "$$\n",
      "\\begin{align*}\n",
      "L_1&=& \\mbox{the length of the counterweight arm}\\\\\\\\\n",
      "L_2&=& \\mbox{the length of the projectile arm}\\\\\\\\\n",
      "m_1&=& \\mbox{the counterweight mass}\\\\\\\\\n",
      "m_2&=& \\mbox{the projectile mass}\\\\\\\\\n",
      "g&=& \\mbox{gravity}\n",
      "\\end{align*}\n",
      "$$"
     ]
    },
    {
     "cell_type": "code",
     "collapsed": true,
     "input": [
      "L1 = Symbol('L1')"
     ],
     "language": "python",
     "metadata": {},
     "outputs": [],
     "prompt_number": 7
    },
    {
     "cell_type": "code",
     "collapsed": true,
     "input": [
      "L2 = Symbol('L2')"
     ],
     "language": "python",
     "metadata": {},
     "outputs": [],
     "prompt_number": 8
    },
    {
     "cell_type": "code",
     "collapsed": true,
     "input": [
      "m1 = Symbol('m1')"
     ],
     "language": "python",
     "metadata": {},
     "outputs": [],
     "prompt_number": 9
    },
    {
     "cell_type": "code",
     "collapsed": true,
     "input": [
      "m2 = Symbol('m2')"
     ],
     "language": "python",
     "metadata": {},
     "outputs": [],
     "prompt_number": 10
    },
    {
     "cell_type": "code",
     "collapsed": true,
     "input": [
      "g = Symbol('g')"
     ],
     "language": "python",
     "metadata": {},
     "outputs": [],
     "prompt_number": 11
    },
    {
     "cell_type": "markdown",
     "metadata": {},
     "source": [
      "Our reference frame is at the axle"
     ]
    },
    {
     "cell_type": "code",
     "collapsed": true,
     "input": [
      "N = ReferenceFrame('N')"
     ],
     "language": "python",
     "metadata": {},
     "outputs": [],
     "prompt_number": 12
    },
    {
     "cell_type": "markdown",
     "metadata": {},
     "source": [
      "We create an axis normal to the plane at the axle"
     ]
    },
    {
     "cell_type": "code",
     "collapsed": true,
     "input": [
      "A = N.orientnew('A', 'Axis', [theta, N.z])"
     ],
     "language": "python",
     "metadata": {},
     "outputs": [],
     "prompt_number": 13
    },
    {
     "cell_type": "markdown",
     "metadata": {},
     "source": [
      "Define the angular velocity at the axle"
     ]
    },
    {
     "cell_type": "code",
     "collapsed": true,
     "input": [
      "A.set_ang_vel(N, theta_v * N.z)"
     ],
     "language": "python",
     "metadata": {},
     "outputs": [],
     "prompt_number": 14
    },
    {
     "cell_type": "markdown",
     "metadata": {},
     "source": [
      "Locate the origin"
     ]
    },
    {
     "cell_type": "code",
     "collapsed": true,
     "input": [
      "O = Point('O')"
     ],
     "language": "python",
     "metadata": {},
     "outputs": [],
     "prompt_number": 15
    },
    {
     "cell_type": "markdown",
     "metadata": {},
     "source": [
      "Locate the counterweight mass"
     ]
    },
    {
     "cell_type": "code",
     "collapsed": true,
     "input": [
      "P1 = O.locatenew('P1', L1 * A.y)"
     ],
     "language": "python",
     "metadata": {},
     "outputs": [],
     "prompt_number": 16
    },
    {
     "cell_type": "markdown",
     "metadata": {},
     "source": [
      "Locate the projectile mass"
     ]
    },
    {
     "cell_type": "code",
     "collapsed": true,
     "input": [
      "P2 = O.locatenew('P2', -L2 * A.y)"
     ],
     "language": "python",
     "metadata": {},
     "outputs": [],
     "prompt_number": 17
    },
    {
     "cell_type": "code",
     "collapsed": true,
     "input": [
      "O.set_vel(N, 0)"
     ],
     "language": "python",
     "metadata": {},
     "outputs": [],
     "prompt_number": 18
    },
    {
     "cell_type": "code",
     "collapsed": false,
     "input": [
      "P1.v2pt_theory(O, N, A)"
     ],
     "language": "python",
     "metadata": {},
     "outputs": [
      {
       "output_type": "pyout",
       "prompt_number": 19,
       "text": [
        "- L\u2081\u22c5\u03b8\u1d65*\u001b[94m\u001b[1ma_x\u001b[0;0m\u001b[0;0m"
       ]
      }
     ],
     "prompt_number": 19
    },
    {
     "cell_type": "code",
     "collapsed": false,
     "input": [
      "P2.v2pt_theory(O, N, A)"
     ],
     "language": "python",
     "metadata": {},
     "outputs": [
      {
       "output_type": "pyout",
       "prompt_number": 20,
       "text": [
        "L\u2082\u22c5\u03b8\u1d65*\u001b[94m\u001b[1ma_x\u001b[0;0m\u001b[0;0m"
       ]
      }
     ],
     "prompt_number": 20
    },
    {
     "cell_type": "markdown",
     "metadata": {},
     "source": [
      "Define the masses"
     ]
    },
    {
     "cell_type": "code",
     "collapsed": true,
     "input": [
      "ParP1 = Particle('ParP1', P1, m1)"
     ],
     "language": "python",
     "metadata": {},
     "outputs": [],
     "prompt_number": 21
    },
    {
     "cell_type": "code",
     "collapsed": true,
     "input": [
      "ParP2 = Particle('ParP2', P2, m2)"
     ],
     "language": "python",
     "metadata": {},
     "outputs": [],
     "prompt_number": 22
    },
    {
     "cell_type": "code",
     "collapsed": true,
     "input": [
      "kd = [theta_d - theta_v,]"
     ],
     "language": "python",
     "metadata": {},
     "outputs": [],
     "prompt_number": 23
    },
    {
     "cell_type": "code",
     "collapsed": true,
     "input": [
      "FL = [(P1, m1 * g * N.x), (P2, m2 * g * N.x)]"
     ],
     "language": "python",
     "metadata": {},
     "outputs": [],
     "prompt_number": 24
    },
    {
     "cell_type": "code",
     "collapsed": true,
     "input": [
      "BL = [ParP1, ParP2]"
     ],
     "language": "python",
     "metadata": {},
     "outputs": [],
     "prompt_number": 25
    },
    {
     "cell_type": "code",
     "collapsed": true,
     "input": [
      "KM = Kane(N)"
     ],
     "language": "python",
     "metadata": {},
     "outputs": [],
     "prompt_number": 26
    },
    {
     "cell_type": "code",
     "collapsed": true,
     "input": [
      "KM.coords([theta,])"
     ],
     "language": "python",
     "metadata": {},
     "outputs": [],
     "prompt_number": 27
    },
    {
     "cell_type": "code",
     "collapsed": true,
     "input": [
      "KM.speeds([theta_v,])"
     ],
     "language": "python",
     "metadata": {},
     "outputs": [],
     "prompt_number": 28
    },
    {
     "cell_type": "code",
     "collapsed": true,
     "input": [
      "KM.kindiffeq(kd)"
     ],
     "language": "python",
     "metadata": {},
     "outputs": [],
     "prompt_number": 29
    },
    {
     "cell_type": "code",
     "collapsed": true,
     "input": [
      "(fr, frstar) = KM.kanes_equations(FL, BL)"
     ],
     "language": "python",
     "metadata": {},
     "outputs": [],
     "prompt_number": 30
    },
    {
     "cell_type": "code",
     "collapsed": true,
     "input": [
      "kdd = KM.kindiffdict()"
     ],
     "language": "python",
     "metadata": {},
     "outputs": [],
     "prompt_number": 31
    },
    {
     "cell_type": "code",
     "collapsed": true,
     "input": [
      "mm = KM.mass_matrix_full"
     ],
     "language": "python",
     "metadata": {},
     "outputs": [],
     "prompt_number": 32
    },
    {
     "cell_type": "code",
     "collapsed": true,
     "input": [
      "fo = KM.forcing_full"
     ],
     "language": "python",
     "metadata": {},
     "outputs": [],
     "prompt_number": 33
    },
    {
     "cell_type": "code",
     "collapsed": true,
     "input": [
      "qudots = mm.inv() * fo"
     ],
     "language": "python",
     "metadata": {},
     "outputs": [],
     "prompt_number": 34
    },
    {
     "cell_type": "code",
     "collapsed": true,
     "input": [
      "qudots = qudots.subs(kdd)"
     ],
     "language": "python",
     "metadata": {},
     "outputs": [],
     "prompt_number": 35
    },
    {
     "cell_type": "code",
     "collapsed": true,
     "input": [
      "qudots.simplify()"
     ],
     "language": "python",
     "metadata": {},
     "outputs": [],
     "prompt_number": 36
    },
    {
     "cell_type": "code",
     "collapsed": true,
     "input": [
      "mechanics_printing()"
     ],
     "language": "python",
     "metadata": {},
     "outputs": [],
     "prompt_number": 37
    },
    {
     "cell_type": "markdown",
     "metadata": {},
     "source": [
      "Resulting system of differential equations"
     ]
    },
    {
     "cell_type": "code",
     "collapsed": false,
     "input": [
      "mprint(qudots)"
     ],
     "language": "python",
     "metadata": {},
     "outputs": [
      {
       "output_type": "stream",
       "stream": "stdout",
       "text": [
        "[                                            theta_v]\n",
        "[g*(-L1*m1 + L2*m2)*cos(theta)/(L1**2*m1 + L2**2*m2)]\n"
       ]
      }
     ],
     "prompt_number": 38
    },
    {
     "cell_type": "markdown",
     "metadata": {},
     "source": [
      "Unfortunately, we can't use the symbolic result in a numerical solver. So we copy and paste."
     ]
    },
    {
     "cell_type": "code",
     "collapsed": true,
     "input": [
      "from numpy import sin, cos, linspace, zeros\n",
      "import matplotlib.pyplot as plt\n",
      "from scipy.integrate import odeint\n",
      "import math"
     ],
     "language": "python",
     "metadata": {},
     "outputs": [],
     "prompt_number": 39
    },
    {
     "cell_type": "code",
     "collapsed": true,
     "input": [
      "def rhs(y, t, L1, L2, m1, m2, g):\n",
      "    \"\"\"Returns the derivatives of the states at the given time for the given\n",
      "    set of parameters.\n",
      "\n",
      "    Parameters\n",
      "    ----------\n",
      "    y :  array_like, shape(n,)\n",
      "         An array of the current states.\n",
      "    t :  float\n",
      "         The current time.\n",
      "    L1 : float\n",
      "         Arm length for mass 1.\n",
      "    L2 : float\n",
      "         Arm length for mass 2.\n",
      "    m1 : float\n",
      "         Counterweight mass.\n",
      "    m2 : float\n",
      "         Projectile mass.\n",
      "    g :  float\n",
      "         Acceleration due to gravity.\n",
      "\n",
      "    Returns\n",
      "    -------\n",
      "    dydt : array_like, shape(n,)\n",
      "        An array of the current derivatives of the states.\n",
      "\n",
      "    Notes\n",
      "    -----\n",
      "    The units and order of the states, time and parameters should be\n",
      "    consistent.\n",
      "\n",
      "    \"\"\"\n",
      "    # Unpack the states so you can use the variable names in the\n",
      "    # sympy.physics.mechanics equations\n",
      "    theta, theta_v = y\n",
      "\n",
      "    # Initialize a vector for the derivatives.\n",
      "    dydt = zeros((len(y)))\n",
      "\n",
      "    # Compute the derivatives, these are pasted in from the\n",
      "    # sympy.physics.mechanics results.\n",
      "    dydt[0] = theta_v\n",
      "    dydt[1] = g*(-L1*m1 + L2*m2)*cos(theta)/(L1**2*m1 + L2**2*m2)\n",
      "\n",
      "    # Return the derivatives.\n",
      "    return dydt"
     ],
     "language": "python",
     "metadata": {},
     "outputs": [],
     "prompt_number": 40
    },
    {
     "cell_type": "code",
     "collapsed": true,
     "input": [
      "# Specify the length, mass and acceleration due to gravity.\n",
      "parameters = (10.0, 100.0, 1000.0, 1.0, 9.8)"
     ],
     "language": "python",
     "metadata": {},
     "outputs": [],
     "prompt_number": 41
    },
    {
     "cell_type": "code",
     "collapsed": true,
     "input": [
      "# Specify initial conditions for the states.\n",
      "y0 = [math.pi/4.0, 0.0]"
     ],
     "language": "python",
     "metadata": {},
     "outputs": [],
     "prompt_number": 42
    },
    {
     "cell_type": "code",
     "collapsed": true,
     "input": [
      "# Create a time vector.\n",
      "t = linspace(0, 5)"
     ],
     "language": "python",
     "metadata": {},
     "outputs": [],
     "prompt_number": 43
    },
    {
     "cell_type": "code",
     "collapsed": true,
     "input": [
      "# Integrate the equations of motion.\n",
      "y = odeint(rhs, y0, t, parameters)"
     ],
     "language": "python",
     "metadata": {},
     "outputs": [],
     "prompt_number": 44
    },
    {
     "cell_type": "code",
     "collapsed": false,
     "input": [
      "y"
     ],
     "language": "python",
     "metadata": {},
     "outputs": [
      {
       "output_type": "pyout",
       "prompt_number": 45,
       "text": [
        "\n",
        " [[ 0.78539816  0.        ]\n",
        "  [ 0.78214948 -0.06370843]\n",
        "  [ 0.77238242 -0.12782878]\n",
        "  [ 0.75603414 -0.19276739]\n",
        "  [ 0.73300087 -0.25891896]\n",
        "  [ 0.70313947 -0.32665923]\n",
        "  [ 0.66626981 -0.39633607]\n",
        "  [ 0.62217814 -0.4682581 ]\n",
        "  [ 0.57062182 -0.54268051]\n",
        "  [ 0.51133561 -0.61978728]\n",
        "  [ 0.44404008 -0.6996695 ]\n",
        "  [ 0.36845228 -0.78229977]\n",
        "  [ 0.28429936 -0.86750265]\n",
        "  [ 0.19133528 -0.95492228]\n",
        "  [ 0.08936095 -1.04398919]\n",
        "  [-0.02175238 -1.13388918]\n",
        "  [-0.14203683 -1.22353909]\n",
        "  [-0.27139968 -1.31157538]\n",
        "  [-0.40959505 -1.39636254]\n",
        "  [-0.55619765 -1.47602831]\n",
        "  [-0.7105818  -1.54853142]\n",
        "  [-0.87190909 -1.61176359]\n",
        "  [-1.03912811 -1.66368214]\n",
        "  [-1.21098876 -1.70246229]\n",
        "  [-1.38607251 -1.72665148]\n",
        "  [-1.56283746 -1.73530409]\n",
        "  [-1.73967525 -1.7280744 ]\n",
        "  [-1.91497461 -1.70525156]\n",
        "  [-2.08718521 -1.66773031]\n",
        "  [-2.25487536 -1.61692263]\n",
        "  [-2.41677837 -1.55462606]\n",
        "  [-2.57182414 -1.4828701 ]\n",
        "  [-2.71915495 -1.40376294]\n",
        "  [-2.85812633 -1.31935653]\n",
        "  [-2.98829573 -1.23154158]\n",
        "  [-3.10940215 -1.14197679]\n",
        "  [-3.22134027 -1.05205086]\n",
        "  [-3.32413213 -0.9628719 ]\n",
        "  [-3.41789892 -0.87527746]\n",
        "  [-3.50283441 -0.78985781]\n",
        "  [-3.57918128 -0.70698668]\n",
        "  [-3.64721072 -0.62685435]\n",
        "  [-3.70720537 -0.54950027]\n",
        "  [-3.75944546 -0.47484286]\n",
        "  [-3.80419787 -0.40270557]\n",
        "  [-3.84170756 -0.33283885]\n",
        "  [-3.87219109 -0.26493824]\n",
        "  [-3.89583177 -0.19865891]\n",
        "  [-3.91277618 -0.1336272 ]\n",
        " [-3.92313169 -0.06944982]]"
       ]
      }
     ],
     "prompt_number": 45
    },
    {
     "cell_type": "code",
     "collapsed": true,
     "input": [
      "# Create an empty figure.\n",
      "fig = plt.figure()"
     ],
     "language": "python",
     "metadata": {},
     "outputs": [],
     "prompt_number": 46
    },
    {
     "cell_type": "code",
     "collapsed": true,
     "input": [
      "# Add a single axes to the figure.\n",
      "ax = fig.add_subplot(1, 1, 1)"
     ],
     "language": "python",
     "metadata": {},
     "outputs": [],
     "prompt_number": 47
    },
    {
     "cell_type": "code",
     "collapsed": false,
     "input": [
      "# Plot the states versus time.\n",
      "ax.plot(t, y)"
     ],
     "language": "python",
     "metadata": {},
     "outputs": [
      {
       "output_type": "pyout",
       "prompt_number": 48,
       "text": [
        "[Line2D(_line0), Line2D(_line1)]"
       ]
      }
     ],
     "prompt_number": 48
    },
    {
     "cell_type": "code",
     "collapsed": false,
     "input": [
      "# Add a title, axes labels and a legend.\n",
      "ax.set_title('Trebuchet as Seesaw Example')\n",
      "ax.set_xlabel('Time (s)')\n",
      "ax.set_ylabel('Angle, Angular rate (rad, rad/s)')\n",
      "ax.legend(['theta', 'theta_v'])"
     ],
     "language": "python",
     "metadata": {},
     "outputs": [
      {
       "output_type": "pyout",
       "prompt_number": 49,
       "text": [
        "Legend"
       ]
      }
     ],
     "prompt_number": 49
    },
    {
     "cell_type": "code",
     "collapsed": true,
     "input": [
      "# Display the figure.\n",
      "plt.show()"
     ],
     "language": "python",
     "metadata": {},
     "outputs": [],
     "prompt_number": 50
    },
    {
     "cell_type": "code",
     "collapsed": false,
     "input": [
      "# Extract the maximums\n",
      "y.argmin(axis=0)"
     ],
     "language": "python",
     "metadata": {},
     "outputs": [
      {
       "output_type": "pyout",
       "prompt_number": 51,
       "text": [
        "[49 25]"
       ]
      }
     ],
     "prompt_number": 51
    },
    {
     "cell_type": "code",
     "collapsed": false,
     "input": [
      "y.size"
     ],
     "language": "python",
     "metadata": {},
     "outputs": [
      {
       "output_type": "pyout",
       "png": "[encoded data removed]",
       "prompt_number": 52,
       "text": [
        "100"
       ]
      }
     ],
     "prompt_number": 52
    },
    {
     "cell_type": "code",
     "collapsed": false,
     "input": [
      "# Maximum angular velocity\n",
      "math.degrees(y[25][0])"
     ],
     "language": "python",
     "metadata": {},
     "outputs": [
      {
       "output_type": "pyout",
       "png": "[encoded data removed]",
       "prompt_number": 53,
       "text": [
        "-89.54399043022799"
       ]
      }
     ],
     "prompt_number": 53
    },
    {
     "cell_type": "code",
     "collapsed": false,
     "input": [
      "# Time at maximum angular velocity\n",
      "t[25]"
     ],
     "language": "python",
     "metadata": {},
     "outputs": [
      {
       "output_type": "pyout",
       "png": "[encoded data removed]",
       "prompt_number": 54,
       "text": [
        "2.5510204081632653"
       ]
      }
     ],
     "prompt_number": 54
    },
    {
     "cell_type": "code",
     "collapsed": false,
     "input": [
      "# Angle at maximum velocity\n",
      "math.degrees(y[25][1])"
     ],
     "language": "python",
     "metadata": {},
     "outputs": [
      {
       "output_type": "pyout",
       "png": "[encoded data removed]",
       "prompt_number": 55,
       "text": [
        "-99.42560038940321"
       ]
      }
     ],
     "prompt_number": 55
    },
    {
     "cell_type": "code",
     "collapsed": true,
     "input": [],
     "language": "python",
     "metadata": {},
     "outputs": [],
     "prompt_number": 55
    }
   ],
   "metadata": {}
  }
 ]
}