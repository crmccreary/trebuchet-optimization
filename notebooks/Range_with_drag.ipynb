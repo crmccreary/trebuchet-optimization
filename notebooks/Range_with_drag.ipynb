{
 "metadata": {
  "name": "Range_with_drag"
 },
 "nbformat": 3,
 "nbformat_minor": 0,
 "worksheets": [
  {
   "cells": [
    {
     "cell_type": "code",
     "collapsed": false,
     "input": [
      "import math\n",
      "from numpy import sin, cos, linspace, zeros\n",
      "from scipy.integrate import odeint, trapz, cumtrapz"
     ],
     "language": "python",
     "metadata": {},
     "outputs": [],
     "prompt_number": 251
    },
    {
     "cell_type": "code",
     "collapsed": false,
     "input": [
      "def rhs(y, t, b, m, g):\n",
      "    \"\"\"Returns the derivatives of the states at the given time for the given\n",
      "    set of parameters.\n",
      "\n",
      "    Parameters\n",
      "    ----------\n",
      "    y :  array_like, shape(n,)\n",
      "         An array of the current states.\n",
      "    t :  float\n",
      "         The current time.\n",
      "    b :  float\n",
      "         Coefficient of drag force.\n",
      "    m :  float\n",
      "         Mass of projectile\n",
      "    g :  float\n",
      "         Acceleration due to gravity.\n",
      "\n",
      "    Returns\n",
      "    -------\n",
      "    dydt : array_like, shape(n,)\n",
      "        An array of the current derivatives of the states.\n",
      "\n",
      "    Notes\n",
      "    -----\n",
      "    The units and order of the states, time and parameters should be\n",
      "    consistent.\n",
      "\n",
      "    \"\"\"\n",
      "    # Unpack the states\n",
      "    v_x, v_y = y\n",
      "\n",
      "    # Initialize a vector for the derivatives.\n",
      "    dydt = zeros((len(y)))\n",
      "\n",
      "    # Compute the derivatives\n",
      "    dydt[0] = -b/m*v_x*math.sqrt(v_x**2 + v_y**2)\n",
      "    dydt[1] = -g -b/m*v_y*math.sqrt(v_x**2 + v_y**2)\n",
      "\n",
      "    # Return the derivatives.\n",
      "    return dydt"
     ],
     "language": "python",
     "metadata": {},
     "outputs": [],
     "prompt_number": 252
    },
    {
     "cell_type": "markdown",
     "metadata": {},
     "source": [
      "$\\rho$ is the density of air at $20^\\circ$ C at sea level"
     ]
    },
    {
     "cell_type": "code",
     "collapsed": false,
     "input": [
      "rho = 1.204"
     ],
     "language": "python",
     "metadata": {},
     "outputs": [],
     "prompt_number": 253
    },
    {
     "cell_type": "markdown",
     "metadata": {},
     "source": [
      "$C_D$ is the coefficient of drag for a sphere"
     ]
    },
    {
     "cell_type": "code",
     "collapsed": false,
     "input": [
      "C_D = 0.47"
     ],
     "language": "python",
     "metadata": {},
     "outputs": [],
     "prompt_number": 254
    },
    {
     "cell_type": "markdown",
     "metadata": {},
     "source": [
      "Our design projectile is about the size of an orange with a mass of $0.2 kg$"
     ]
    },
    {
     "cell_type": "code",
     "collapsed": false,
     "input": [
      "R = 0.09\n",
      "m = 0.2"
     ],
     "language": "python",
     "metadata": {},
     "outputs": [],
     "prompt_number": 255
    },
    {
     "cell_type": "markdown",
     "metadata": {},
     "source": [
      "A is the effective projected area of the sphere"
     ]
    },
    {
     "cell_type": "code",
     "collapsed": false,
     "input": [
      "A = math.pi*R**2\n",
      "print(A)"
     ],
     "language": "python",
     "metadata": {},
     "outputs": [
      {
       "output_type": "stream",
       "stream": "stdout",
       "text": [
        "0.0254469004941\n"
       ]
      }
     ],
     "prompt_number": 256
    },
    {
     "cell_type": "markdown",
     "metadata": {},
     "source": [
      "b is the coefficient of the drag force term"
     ]
    },
    {
     "cell_type": "code",
     "collapsed": false,
     "input": [
      "b = 0.5*rho*C_D*A\n",
      "print(b)"
     ],
     "language": "python",
     "metadata": {},
     "outputs": [
      {
       "output_type": "stream",
       "stream": "stdout",
       "text": [
        "0.00719994602579\n"
       ]
      }
     ],
     "prompt_number": 257
    },
    {
     "cell_type": "markdown",
     "metadata": {},
     "source": [
      "Specify the initial conditions. We will assume $100 \\frac{m}{s}$ at an angle of $45^\\circ$ from horizontal"
     ]
    },
    {
     "cell_type": "code",
     "collapsed": false,
     "input": [
      "theta = math.radians(28)\n",
      "v = 100.0\n",
      "v0 = [v*math.cos(theta), v*math.sin(theta)]"
     ],
     "language": "python",
     "metadata": {},
     "outputs": [],
     "prompt_number": 258
    },
    {
     "cell_type": "markdown",
     "metadata": {},
     "source": [
      "Create a time vector"
     ]
    },
    {
     "cell_type": "code",
     "collapsed": false,
     "input": [
      "t = linspace(0,5, num=int(5/0.005)+1)"
     ],
     "language": "python",
     "metadata": {},
     "outputs": [],
     "prompt_number": 259
    },
    {
     "cell_type": "code",
     "collapsed": false,
     "input": [
      "parameters = (b, m, 9.81)"
     ],
     "language": "python",
     "metadata": {},
     "outputs": [],
     "prompt_number": 260
    },
    {
     "cell_type": "markdown",
     "metadata": {},
     "source": [
      "Integrate the equations of motion"
     ]
    },
    {
     "cell_type": "code",
     "collapsed": false,
     "input": [
      "v = odeint(rhs, v0, t, parameters, printmessg=True)"
     ],
     "language": "python",
     "metadata": {},
     "outputs": [
      {
       "output_type": "stream",
       "stream": "stdout",
       "text": [
        "Integration successful.\n"
       ]
      }
     ],
     "prompt_number": 261
    },
    {
     "cell_type": "markdown",
     "metadata": {},
     "source": [
      "When $\\int_0^t v_y dt \\le 0$, the projectile has hit the ground"
     ]
    },
    {
     "cell_type": "code",
     "collapsed": false,
     "input": [
      "i = 2\n",
      "while trapz(v[0:i,1],t[0:i]) > 0.0:\n",
      "    i = i + 1\n",
      "print i"
     ],
     "language": "python",
     "metadata": {},
     "outputs": [
      {
       "output_type": "stream",
       "stream": "stdout",
       "text": [
        "726\n"
       ]
      }
     ],
     "prompt_number": 262
    },
    {
     "cell_type": "code",
     "collapsed": false,
     "input": [
      "x = cumtrapz(v[0:i,0],t[0:i])\n",
      "y = cumtrapz(v[0:i,1],t[0:i])"
     ],
     "language": "python",
     "metadata": {},
     "outputs": [],
     "prompt_number": 263
    },
    {
     "cell_type": "code",
     "collapsed": false,
     "input": [
      "print(x[-1])"
     ],
     "language": "python",
     "metadata": {},
     "outputs": [
      {
       "output_type": "stream",
       "stream": "stdout",
       "text": [
        "65.8739611449\n"
       ]
      }
     ],
     "prompt_number": 264
    },
    {
     "cell_type": "code",
     "collapsed": false,
     "input": [
      "fig = plt.figure()\n",
      "ax = fig.add_subplot(1, 1, 1)\n",
      "ax.plot(x, y)\n",
      "ax.set_title('Range with drag')\n",
      "ax.set_xlabel('Distance (m)')\n",
      "ax.set_ylabel('Height (m)')\n",
      "ax.legend([r'$\\theta={0}^\\circ$'.format(math.degrees(theta)),])\n",
      "plt.show()"
     ],
     "language": "python",
     "metadata": {},
     "outputs": [
      {
       "output_type": "display_data",
       "png": "[encoded data removed]"
      }
     ],
     "prompt_number": 267
    },
    {
     "cell_type": "code",
     "collapsed": false,
     "input": [],
     "language": "python",
     "metadata": {},
     "outputs": []
    }
   ],
   "metadata": {}
  }
 ]
}