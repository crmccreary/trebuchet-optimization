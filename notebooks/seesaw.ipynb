{
 "metadata": {
  "name": "seesaw"
 },
 "nbformat": 3,
 "nbformat_minor": 0,
 "worksheets": [
  {
   "cells": [
    {
     "cell_type": "markdown",
     "metadata": {},
     "source": [
      "See-saw model of trebuchet. Inpired by an borrowing freely from http://online.redwoods.cc.ca.us/instruct/darnold/deproj/sp05/bshawn/TrebuchetMotionPDF.pdf"
     ]
    },
    {
     "cell_type": "code",
     "collapsed": false,
     "input": [
      "from IPython.core.display import Image\n",
      "Image(filename='seesaw.jpg')"
     ],
     "language": "python",
     "metadata": {},
     "outputs": [
      {
       "jpeg": "[encoded data removed]",
       "output_type": "pyout",
       "prompt_number": 1,
       "text": [
        "<IPython.core.display.Image object at 0x3c8ac90>"
       ]
      }
     ],
     "prompt_number": 1
    },
    {
     "cell_type": "markdown",
     "metadata": {},
     "source": [
      "Rather than using Newtonian mechanics to derive the differential equations, we will use the Euler-Lagrange method."
     ]
    },
    {
     "cell_type": "code",
     "collapsed": true,
     "input": [
      "t = Symbol('t')"
     ],
     "language": "python",
     "metadata": {},
     "outputs": [],
     "prompt_number": 2
    },
    {
     "cell_type": "code",
     "collapsed": true,
     "input": [
      "theta = Function('theta')"
     ],
     "language": "python",
     "metadata": {},
     "outputs": [],
     "prompt_number": 38
    },
    {
     "cell_type": "code",
     "collapsed": true,
     "input": [
      "_theta = theta(t)"
     ],
     "language": "python",
     "metadata": {},
     "outputs": [],
     "prompt_number": 39
    },
    {
     "cell_type": "code",
     "collapsed": true,
     "input": [
      "L1 = Symbol('L1')"
     ],
     "language": "python",
     "metadata": {},
     "outputs": [],
     "prompt_number": 40
    },
    {
     "cell_type": "code",
     "collapsed": true,
     "input": [
      "L2 = Symbol('L2')"
     ],
     "language": "python",
     "metadata": {},
     "outputs": [],
     "prompt_number": 41
    },
    {
     "cell_type": "code",
     "collapsed": true,
     "input": [
      "m1 = Symbol('m1')"
     ],
     "language": "python",
     "metadata": {},
     "outputs": [],
     "prompt_number": 42
    },
    {
     "cell_type": "code",
     "collapsed": true,
     "input": [
      "m2 = Symbol('m2')"
     ],
     "language": "python",
     "metadata": {},
     "outputs": [],
     "prompt_number": 43
    },
    {
     "cell_type": "code",
     "collapsed": true,
     "input": [
      "g = Symbol('g')"
     ],
     "language": "python",
     "metadata": {},
     "outputs": [],
     "prompt_number": 44
    },
    {
     "cell_type": "code",
     "collapsed": false,
     "input": [
      "from sympy.physics.mechanics import *"
     ],
     "language": "python",
     "metadata": {},
     "outputs": [],
     "prompt_number": 45
    },
    {
     "cell_type": "code",
     "collapsed": true,
     "input": [
      "N = ReferenceFrame('N')"
     ],
     "language": "python",
     "metadata": {},
     "outputs": [],
     "prompt_number": 46
    },
    {
     "cell_type": "code",
     "collapsed": true,
     "input": [
      "x1 = L1*sin(_theta)"
     ],
     "language": "python",
     "metadata": {},
     "outputs": [],
     "prompt_number": 47
    },
    {
     "cell_type": "code",
     "collapsed": true,
     "input": [
      "y1 = -L1*cos(_theta)"
     ],
     "language": "python",
     "metadata": {},
     "outputs": [],
     "prompt_number": 48
    },
    {
     "cell_type": "code",
     "collapsed": true,
     "input": [
      "P1 = x1*N.x + y1*N.y + 0*N.z"
     ],
     "language": "python",
     "metadata": {},
     "outputs": [],
     "prompt_number": 49
    },
    {
     "cell_type": "code",
     "collapsed": true,
     "input": [
      "x2 = -L2*sin(_theta)"
     ],
     "language": "python",
     "metadata": {},
     "outputs": [],
     "prompt_number": 50
    },
    {
     "cell_type": "code",
     "collapsed": true,
     "input": [
      "y2 = L2*cos(_theta)"
     ],
     "language": "python",
     "metadata": {},
     "outputs": [],
     "prompt_number": 51
    },
    {
     "cell_type": "code",
     "collapsed": true,
     "input": [
      "P2 = x2*N.x + y2*N.y + 0*N.z"
     ],
     "language": "python",
     "metadata": {},
     "outputs": [],
     "prompt_number": 52
    },
    {
     "cell_type": "code",
     "collapsed": false,
     "input": [
      "P1_prime = P1.diff(t,N)"
     ],
     "language": "python",
     "metadata": {},
     "outputs": [],
     "prompt_number": 53
    },
    {
     "cell_type": "code",
     "collapsed": false,
     "input": [
      "P2_prime = P2.diff(t,N)"
     ],
     "language": "python",
     "metadata": {},
     "outputs": [],
     "prompt_number": 54
    },
    {
     "cell_type": "code",
     "collapsed": false,
     "input": [
      "T = 1/2*m1*P1_prime.dot(P1_prime)+1/2*m2*P2_prime.dot(P2_prime)"
     ],
     "language": "python",
     "metadata": {},
     "outputs": [],
     "prompt_number": 55
    },
    {
     "cell_type": "code",
     "collapsed": false,
     "input": [
      "T.simplify()"
     ],
     "language": "python",
     "metadata": {},
     "outputs": [
      {
       "latex": [
        "$$0.5 \\left(L_{1}^{2} m_{1} + L_{2}^{2} m_{2}\\right) \\left(\\frac{\\partial}{\\partial t} \\theta{\\left (t \\right )}\\right)^{2}$$"
       ],
       "output_type": "pyout",
       "prompt_number": 56,
       "text": [
        "\n",
        "                              2\n",
        "    \u239b  2        2   \u239e d        \n",
        "0.5\u22c5\u239dL\u2081 \u22c5m\u2081 + L\u2082 \u22c5m\u2082\u23a0\u22c5\u2500\u2500(\u03b8(t)) \n",
        "                      dt       "
       ]
      }
     ],
     "prompt_number": 56
    },
    {
     "cell_type": "code",
     "collapsed": true,
     "input": [
      "V = m1*g*y1 + m2*g*y2"
     ],
     "language": "python",
     "metadata": {},
     "outputs": [],
     "prompt_number": 57
    },
    {
     "cell_type": "code",
     "collapsed": true,
     "input": [
      "L = T - V"
     ],
     "language": "python",
     "metadata": {},
     "outputs": [],
     "prompt_number": 58
    },
    {
     "cell_type": "code",
     "collapsed": false,
     "input": [
      "L.simplify()"
     ],
     "language": "python",
     "metadata": {},
     "outputs": [
      {
       "latex": [
        "$$0.5 L_{1}^{2} m_{1} \\left(\\frac{\\partial}{\\partial t} \\theta{\\left (t \\right )}\\right)^{2} + L_{1} g m_{1} \\cos{\\left (\\theta{\\left (t \\right )} \\right )} + 0.5 L_{2}^{2} m_{2} \\left(\\frac{\\partial}{\\partial t} \\theta{\\left (t \\right )}\\right)^{2} - L_{2} g m_{2} \\cos{\\left (\\theta{\\left (t \\right )} \\right )}$$"
       ],
       "output_type": "pyout",
       "prompt_number": 59,
       "text": [
        "\n",
        "                   2                                          2               \n",
        "      2    d                                     2    d                       \n",
        "0.5\u22c5L\u2081 \u22c5m\u2081\u22c5\u2500\u2500(\u03b8(t))  + L\u2081\u22c5g\u22c5m\u2081\u22c5cos(\u03b8(t)) + 0.5\u22c5L\u2082 \u22c5m\u2082\u22c5\u2500\u2500(\u03b8(t))  - L\u2082\u22c5g\u22c5m\u2082\u22c5cos(\n",
        "           dt                                         dt                      \n",
        "\n",
        "     \n",
        "     \n",
        "\u03b8(t))\n",
        "     "
       ]
      }
     ],
     "prompt_number": 59
    },
    {
     "cell_type": "code",
     "collapsed": false,
     "input": [
      "Eq = Derivative(L,_theta,evaluate=True)-Derivative(Derivative(L,Derivative(_theta,t,evaluate=True),evaluate=True),t,evaluate=True)"
     ],
     "language": "python",
     "metadata": {},
     "outputs": [],
     "prompt_number": 84
    },
    {
     "cell_type": "code",
     "collapsed": false,
     "input": [
      "Eq.simplify()"
     ],
     "language": "python",
     "metadata": {},
     "outputs": [
      {
       "latex": [
        "$$- 1.0 L_{1}^{2} m_{1} \\frac{\\partial^{2}}{\\partial^{2} t}  \\theta{\\left (t \\right )} - L_{1} g m_{1} \\sin{\\left (\\theta{\\left (t \\right )} \\right )} - 1.0 L_{2}^{2} m_{2} \\frac{\\partial^{2}}{\\partial^{2} t}  \\theta{\\left (t \\right )} + L_{2} g m_{2} \\sin{\\left (\\theta{\\left (t \\right )} \\right )}$$"
       ],
       "output_type": "pyout",
       "prompt_number": 85,
       "text": [
        "\n",
        "               2                                          2                   \n",
        "        2     d                                    2     d                    \n",
        "- 1.0\u22c5L\u2081 \u22c5m\u2081\u22c5\u2500\u2500\u2500(\u03b8(t)) - L\u2081\u22c5g\u22c5m\u2081\u22c5sin(\u03b8(t)) - 1.0\u22c5L\u2082 \u22c5m\u2082\u22c5\u2500\u2500\u2500(\u03b8(t)) + L\u2082\u22c5g\u22c5m\u2082\u22c5si\n",
        "               2                                          2                   \n",
        "             dt                                         dt                    \n",
        "\n",
        "       \n",
        "       \n",
        "n(\u03b8(t))\n",
        "       \n",
        "       "
       ]
      }
     ],
     "prompt_number": 85
    },
    {
     "cell_type": "code",
     "collapsed": true,
     "input": [],
     "language": "python",
     "metadata": {},
     "outputs": []
    }
   ],
   "metadata": {}
  }
 ]
}