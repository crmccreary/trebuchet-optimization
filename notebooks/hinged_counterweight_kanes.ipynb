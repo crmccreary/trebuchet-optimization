{
 "metadata": {
  "name": "hinged_counterweight_kanes"
 },
 "nbformat": 3,
 "nbformat_minor": 0,
 "worksheets": [
  {
   "cells": [
    {
     "cell_type": "code",
     "collapsed": false,
     "input": [
      "from IPython.core.display import Image\n",
      "Image(filename='TrebuchetMotion_1.jpg')"
     ],
     "language": "python",
     "metadata": {},
     "outputs": [
      {
       "jpeg": "[encoded data removed]",
       "output_type": "pyout",
       "prompt_number": 423,
       "text": [
        "<IPython.core.display.Image object at 0x71e2990>"
       ]
      }
     ],
     "prompt_number": 423
    },
    {
     "cell_type": "code",
     "collapsed": true,
     "input": [
      "from sympy.physics.mechanics import *"
     ],
     "language": "python",
     "metadata": {},
     "outputs": [],
     "prompt_number": 424
    },
    {
     "cell_type": "markdown",
     "metadata": {},
     "source": [
      "We first define our generalized coordinates and generalized speeds:"
     ]
    },
    {
     "cell_type": "code",
     "collapsed": false,
     "input": [
      "q1, q2 = dynamicsymbols('q1 q2')"
     ],
     "language": "python",
     "metadata": {},
     "outputs": [],
     "prompt_number": 425
    },
    {
     "cell_type": "code",
     "collapsed": true,
     "input": [
      "q1_d, q2_d = dynamicsymbols('q1 q2' , 1)"
     ],
     "language": "python",
     "metadata": {},
     "outputs": [],
     "prompt_number": 426
    },
    {
     "cell_type": "code",
     "collapsed": true,
     "input": [
      "u1, u2 = dynamicsymbols('u1 u2')"
     ],
     "language": "python",
     "metadata": {},
     "outputs": [],
     "prompt_number": 427
    },
    {
     "cell_type": "code",
     "collapsed": true,
     "input": [
      "u1_d, u2_d = dynamicsymbols('u1 u2', 1)"
     ],
     "language": "python",
     "metadata": {},
     "outputs": [],
     "prompt_number": 428
    },
    {
     "cell_type": "markdown",
     "metadata": {},
     "source": [
      "Our variables are \n",
      "$$\n",
      "\\begin{align*}\n",
      "l_1&=& \\mbox{the length of the beam on the counterweight side}\\\\\\\\\n",
      "l_2&=& \\mbox{the length of the beam on the projectile side}\\\\\\\\\n",
      "l_4&=& \\mbox{the length of the counterweight arm}\\\\\\\\\n",
      "m_1&=& \\mbox{the counterweight mass}\\\\\\\\\n",
      "m_2&=& \\mbox{the projectile mass}\\\\\\\\\n",
      "g&=& \\mbox{gravity}\n",
      "\\end{align*}\n",
      "$$"
     ]
    },
    {
     "cell_type": "code",
     "collapsed": true,
     "input": [
      "L1 = Symbol('L1')"
     ],
     "language": "python",
     "metadata": {},
     "outputs": [],
     "prompt_number": 429
    },
    {
     "cell_type": "code",
     "collapsed": true,
     "input": [
      "L2 = Symbol('L2')"
     ],
     "language": "python",
     "metadata": {},
     "outputs": [],
     "prompt_number": 430
    },
    {
     "cell_type": "code",
     "collapsed": false,
     "input": [
      "L4 = Symbol('L4')"
     ],
     "language": "python",
     "metadata": {},
     "outputs": [],
     "prompt_number": 431
    },
    {
     "cell_type": "code",
     "collapsed": true,
     "input": [
      "m1 = Symbol('m1')"
     ],
     "language": "python",
     "metadata": {},
     "outputs": [],
     "prompt_number": 432
    },
    {
     "cell_type": "code",
     "collapsed": true,
     "input": [
      "m2 = Symbol('m2')"
     ],
     "language": "python",
     "metadata": {},
     "outputs": [],
     "prompt_number": 433
    },
    {
     "cell_type": "code",
     "collapsed": true,
     "input": [
      "g = Symbol('g')"
     ],
     "language": "python",
     "metadata": {},
     "outputs": [],
     "prompt_number": 434
    },
    {
     "cell_type": "markdown",
     "metadata": {},
     "source": [
      "Our reference frame is at the axle"
     ]
    },
    {
     "cell_type": "code",
     "collapsed": true,
     "input": [
      "N = ReferenceFrame('N')"
     ],
     "language": "python",
     "metadata": {},
     "outputs": [],
     "prompt_number": 435
    },
    {
     "cell_type": "markdown",
     "metadata": {},
     "source": [
      "Create local frames"
     ]
    },
    {
     "cell_type": "code",
     "collapsed": true,
     "input": [
      "A = N.orientnew('A', 'Axis', [q1, N.z])\n",
      "B = N.orientnew('B', 'Axis', [q2, N.z])"
     ],
     "language": "python",
     "metadata": {},
     "outputs": [],
     "prompt_number": 436
    },
    {
     "cell_type": "markdown",
     "metadata": {},
     "source": [
      "Define the angular velocity at the axle"
     ]
    },
    {
     "cell_type": "code",
     "collapsed": true,
     "input": [
      "A.set_ang_vel(N, u1 * N.z)\n",
      "B.set_ang_vel(N, u2 * N.z)"
     ],
     "language": "python",
     "metadata": {},
     "outputs": [],
     "prompt_number": 437
    },
    {
     "cell_type": "markdown",
     "metadata": {},
     "source": [
      "Locate the origin"
     ]
    },
    {
     "cell_type": "code",
     "collapsed": true,
     "input": [
      "O = Point('O')"
     ],
     "language": "python",
     "metadata": {},
     "outputs": [],
     "prompt_number": 438
    },
    {
     "cell_type": "markdown",
     "metadata": {},
     "source": [
      "Locate the counterweight beam joint"
     ]
    },
    {
     "cell_type": "code",
     "collapsed": true,
     "input": [
      "P = O.locatenew('P', L1 * A.x)"
     ],
     "language": "python",
     "metadata": {},
     "outputs": [],
     "prompt_number": 439
    },
    {
     "cell_type": "markdown",
     "metadata": {},
     "source": [
      "Locate the projectile mass"
     ]
    },
    {
     "cell_type": "code",
     "collapsed": true,
     "input": [
      "Q = O.locatenew('Q', -L2 * A.x)"
     ],
     "language": "python",
     "metadata": {},
     "outputs": [],
     "prompt_number": 440
    },
    {
     "cell_type": "markdown",
     "metadata": {},
     "source": [
      "Locate the counterweight mass"
     ]
    },
    {
     "cell_type": "code",
     "collapsed": false,
     "input": [
      "R = O.locatenew('R', L4 * B.x)"
     ],
     "language": "python",
     "metadata": {},
     "outputs": [],
     "prompt_number": 441
    },
    {
     "cell_type": "code",
     "collapsed": true,
     "input": [
      "O.set_vel(N, 0)"
     ],
     "language": "python",
     "metadata": {},
     "outputs": [],
     "prompt_number": 442
    },
    {
     "cell_type": "code",
     "collapsed": false,
     "input": [
      "P.v2pt_theory(O, N, A)"
     ],
     "language": "python",
     "metadata": {},
     "outputs": [
      {
       "output_type": "pyout",
       "prompt_number": 443,
       "text": [
        "L\u2081\u22c5u\u2081*\u001b[94m\u001b[1ma_y\u001b[0;0m\u001b[0;0m"
       ]
      }
     ],
     "prompt_number": 443
    },
    {
     "cell_type": "code",
     "collapsed": false,
     "input": [
      "Q.v2pt_theory(O, N, A)"
     ],
     "language": "python",
     "metadata": {},
     "outputs": [
      {
       "output_type": "pyout",
       "prompt_number": 444,
       "text": [
        "- L\u2082\u22c5u\u2081*\u001b[94m\u001b[1ma_y\u001b[0;0m\u001b[0;0m"
       ]
      }
     ],
     "prompt_number": 444
    },
    {
     "cell_type": "code",
     "collapsed": false,
     "input": [
      "R.v2pt_theory(P, N, B)"
     ],
     "language": "python",
     "metadata": {},
     "outputs": [
      {
       "output_type": "pyout",
       "prompt_number": 445,
       "text": [
        "(L\u2081\u22c5u\u2081 - L\u2081\u22c5u\u2082)*\u001b[94m\u001b[1ma_y\u001b[0;0m\u001b[0;0m + L\u2084\u22c5u\u2082*\u001b[94m\u001b[1mb_y\u001b[0;0m\u001b[0;0m"
       ]
      }
     ],
     "prompt_number": 445
    },
    {
     "cell_type": "markdown",
     "metadata": {},
     "source": [
      "Define the masses"
     ]
    },
    {
     "cell_type": "code",
     "collapsed": true,
     "input": [
      "ParR = Particle('ParR', R, m1)"
     ],
     "language": "python",
     "metadata": {},
     "outputs": [],
     "prompt_number": 446
    },
    {
     "cell_type": "code",
     "collapsed": true,
     "input": [
      "ParQ = Particle('ParQ', Q, m2)"
     ],
     "language": "python",
     "metadata": {},
     "outputs": [],
     "prompt_number": 447
    },
    {
     "cell_type": "code",
     "collapsed": true,
     "input": [
      "kd = [q1_d - u1, q2_d - u2]"
     ],
     "language": "python",
     "metadata": {},
     "outputs": [],
     "prompt_number": 448
    },
    {
     "cell_type": "code",
     "collapsed": true,
     "input": [
      "FL = [(R, m1 * g * N.x), (Q, m2 * g * N.x)]"
     ],
     "language": "python",
     "metadata": {},
     "outputs": [],
     "prompt_number": 449
    },
    {
     "cell_type": "code",
     "collapsed": true,
     "input": [
      "BL = [ParR, ParQ]"
     ],
     "language": "python",
     "metadata": {},
     "outputs": [],
     "prompt_number": 450
    },
    {
     "cell_type": "code",
     "collapsed": true,
     "input": [
      "KM = Kane(N)"
     ],
     "language": "python",
     "metadata": {},
     "outputs": [],
     "prompt_number": 451
    },
    {
     "cell_type": "code",
     "collapsed": true,
     "input": [
      "KM.coords([q1,q2])"
     ],
     "language": "python",
     "metadata": {},
     "outputs": [],
     "prompt_number": 452
    },
    {
     "cell_type": "code",
     "collapsed": true,
     "input": [
      "KM.speeds([u1,u2])"
     ],
     "language": "python",
     "metadata": {},
     "outputs": [],
     "prompt_number": 453
    },
    {
     "cell_type": "code",
     "collapsed": true,
     "input": [
      "KM.kindiffeq(kd)"
     ],
     "language": "python",
     "metadata": {},
     "outputs": [],
     "prompt_number": 454
    },
    {
     "cell_type": "code",
     "collapsed": true,
     "input": [
      "(fr, frstar) = KM.kanes_equations(FL, BL)"
     ],
     "language": "python",
     "metadata": {},
     "outputs": [],
     "prompt_number": 455
    },
    {
     "cell_type": "code",
     "collapsed": true,
     "input": [
      "kdd = KM.kindiffdict()"
     ],
     "language": "python",
     "metadata": {},
     "outputs": [],
     "prompt_number": 456
    },
    {
     "cell_type": "code",
     "collapsed": true,
     "input": [
      "mm = KM.mass_matrix_full"
     ],
     "language": "python",
     "metadata": {},
     "outputs": [],
     "prompt_number": 457
    },
    {
     "cell_type": "code",
     "collapsed": true,
     "input": [
      "fo = KM.forcing_full"
     ],
     "language": "python",
     "metadata": {},
     "outputs": [],
     "prompt_number": 458
    },
    {
     "cell_type": "code",
     "collapsed": true,
     "input": [
      "qudots = mm.inv() * fo"
     ],
     "language": "python",
     "metadata": {},
     "outputs": [],
     "prompt_number": 459
    },
    {
     "cell_type": "code",
     "collapsed": true,
     "input": [
      "qudots = qudots.subs(kdd)"
     ],
     "language": "python",
     "metadata": {},
     "outputs": [],
     "prompt_number": 460
    },
    {
     "cell_type": "code",
     "collapsed": true,
     "input": [
      "mechanics_printing()"
     ],
     "language": "python",
     "metadata": {},
     "outputs": [],
     "prompt_number": 461
    },
    {
     "cell_type": "markdown",
     "metadata": {},
     "source": [
      "Resulting system of differential equations\n",
      "Don't even attempt qudots.simplify()!"
     ]
    },
    {
     "cell_type": "code",
     "collapsed": false,
     "input": [
      "mprint(qudots)"
     ],
     "language": "python",
     "metadata": {},
     "outputs": [
      {
       "output_type": "stream",
       "stream": "stdout",
       "text": [
        "[                                                                                                                                                                                                                                                                                                                                                                                                                                                                                                                                                                                                                                                                                                                                                                  u1]\n",
        "[                                                                                                                                                                                                                                                                                                                                                                                                                                                                                                                                                                                                                                                                                                                                                                  u2]\n",
        "[(1/(-L1**2*m1 - L2**2*m2) + (L1**2*m1 - L1*L4*m1*(sin(q1)*sin(q2) + cos(q1)*cos(q2)))**2/(m1*(-L1**2*m1 - L2**2*m2)**2*(L1**2*m1*(L1 - L4*(sin(q1)*sin(q2) + cos(q1)*cos(q2)))**2/(L1**2*m1 + L2**2*m2) - L1**2 + 2*L1*L4*(sin(q1)*sin(q2) + cos(q1)*cos(q2)) - L4**2)))*(-L1*L4*m1*(-sin(q1)*cos(q2) + sin(q2)*cos(q1))*u2**2 + L1*g*m1*sin(q1) - L2*g*m2*sin(q1)) - (L1**2*m1 - L1*L4*m1*(sin(q1)*sin(q2) + cos(q1)*cos(q2)))*(L1*L4*m1*(-sin(q1)*cos(q2) + sin(q2)*cos(q1))*u2**2 - L1*g*m1*sin(q1) + L4*g*m1*sin(q2) - L4*m1*(L1*u1 - L1*u2)*(sin(q1)*cos(q2) - sin(q2)*cos(q1))*u1)/(m1*(-L1**2*m1 - L2**2*m2)*(L1**2*m1*(L1 - L4*(sin(q1)*sin(q2) + cos(q1)*cos(q2)))**2/(L1**2*m1 + L2**2*m2) - L1**2 + 2*L1*L4*(sin(q1)*sin(q2) + cos(q1)*cos(q2)) - L4**2))]\n",
        "[                                                                                                                    (L1*L4*m1*(-sin(q1)*cos(q2) + sin(q2)*cos(q1))*u2**2 - L1*g*m1*sin(q1) + L4*g*m1*sin(q2) - L4*m1*(L1*u1 - L1*u2)*(sin(q1)*cos(q2) - sin(q2)*cos(q1))*u1)/(m1*(L1**2*m1*(L1 - L4*(sin(q1)*sin(q2) + cos(q1)*cos(q2)))**2/(L1**2*m1 + L2**2*m2) - L1**2 + 2*L1*L4*(sin(q1)*sin(q2) + cos(q1)*cos(q2)) - L4**2)) - (L1**2*m1 - L1*L4*m1*(sin(q1)*sin(q2) + cos(q1)*cos(q2)))*(-L1*L4*m1*(-sin(q1)*cos(q2) + sin(q2)*cos(q1))*u2**2 + L1*g*m1*sin(q1) - L2*g*m2*sin(q1))/(m1*(-L1**2*m1 - L2**2*m2)*(L1**2*m1*(L1 - L4*(sin(q1)*sin(q2) + cos(q1)*cos(q2)))**2/(L1**2*m1 + L2**2*m2) - L1**2 + 2*L1*L4*(sin(q1)*sin(q2) + cos(q1)*cos(q2)) - L4**2))]\n"
       ]
      }
     ],
     "prompt_number": 462
    },
    {
     "cell_type": "code",
     "collapsed": true,
     "input": [
      "from numpy import sin, cos, linspace, zeros\n",
      "import matplotlib.pyplot as plt\n",
      "from scipy.integrate import odeint\n",
      "import math"
     ],
     "language": "python",
     "metadata": {},
     "outputs": [],
     "prompt_number": 463
    },
    {
     "cell_type": "code",
     "collapsed": false,
     "input": [
      "def rhs(y, t, L1, L2, L4, m1, m2, g):\n",
      "    \"\"\"Returns the derivatives of the states at the given time for the given\n",
      "    set of parameters.\n",
      "\n",
      "    Parameters\n",
      "    ----------\n",
      "    y :  array_like, shape(n,)\n",
      "         An array of the current states.\n",
      "    t :  float\n",
      "         The current time.\n",
      "    L1 : float\n",
      "         Arm length to counterweight arm joint.\n",
      "    L2 : float\n",
      "         Arm length for mass 2.\n",
      "    L4 : float\n",
      "         Counterweight arm length\n",
      "    m1 : float\n",
      "         Counterweight mass.\n",
      "    m2 : float\n",
      "         Projectile mass.\n",
      "    g :  float\n",
      "         Acceleration due to gravity.\n",
      "\n",
      "    Returns\n",
      "    -------\n",
      "    dydt : array_like, shape(n,)\n",
      "        An array of the current derivatives of the states.\n",
      "\n",
      "    Notes\n",
      "    -----\n",
      "    The units and order of the states, time and parameters should be\n",
      "    consistent.\n",
      "\n",
      "    \"\"\"\n",
      "    # Unpack the states so you can use the variable names in the\n",
      "    # sympy.physics.mechanics equations\n",
      "    q1, q2, u1, u2 = y\n",
      "\n",
      "    # Initialize a vector for the derivatives.\n",
      "    dydt = zeros((len(y)))\n",
      "\n",
      "    # Compute the derivatives, these are pasted in from the\n",
      "    # sympy.physics.mechanics results.\n",
      "    dydt[0] = u1\n",
      "    dydt[1] = u2\n",
      "    dydt[2] = (1/(-L1**2*m1 - L2**2*m2) + (L1**2*m1 - L1*L4*m1*(sin(q1)*sin(q2) + cos(q1)*cos(q2)))**2/(m1*(-L1**2*m1 - L2**2*m2)**2*(L1**2*m1*(L1 - L4*(sin(q1)*sin(q2) + cos(q1)*cos(q2)))**2/(L1**2*m1 + L2**2*m2) - L1**2 + 2*L1*L4*(sin(q1)*sin(q2) + cos(q1)*cos(q2)) - L4**2)))*(-L1*L4*m1*(-sin(q1)*cos(q2) + sin(q2)*cos(q1))*u2**2 + L1*g*m1*sin(q1) - L2*g*m2*sin(q1)) - (L1**2*m1 - L1*L4*m1*(sin(q1)*sin(q2) + cos(q1)*cos(q2)))*(L1*L4*m1*(-sin(q1)*cos(q2) + sin(q2)*cos(q1))*u2**2 - L1*g*m1*sin(q1) + L4*g*m1*sin(q2) - L4*m1*(L1*u1 - L1*u2)*(sin(q1)*cos(q2) - sin(q2)*cos(q1))*u1)/(m1*(-L1**2*m1 - L2**2*m2)*(L1**2*m1*(L1 - L4*(sin(q1)*sin(q2) + cos(q1)*cos(q2)))**2/(L1**2*m1 + L2**2*m2) - L1**2 + 2*L1*L4*(sin(q1)*sin(q2) + cos(q1)*cos(q2)) - L4**2))\n",
      "    dydt[3] = (L1*L4*m1*(-sin(q1)*cos(q2) + sin(q2)*cos(q1))*u2**2 - L1*g*m1*sin(q1) + L4*g*m1*sin(q2) - L4*m1*(L1*u1 - L1*u2)*(sin(q1)*cos(q2) - sin(q2)*cos(q1))*u1)/(m1*(L1**2*m1*(L1 - L4*(sin(q1)*sin(q2) + cos(q1)*cos(q2)))**2/(L1**2*m1 + L2**2*m2) - L1**2 + 2*L1*L4*(sin(q1)*sin(q2) + cos(q1)*cos(q2)) - L4**2)) - (L1**2*m1 - L1*L4*m1*(sin(q1)*sin(q2) + cos(q1)*cos(q2)))*(-L1*L4*m1*(-sin(q1)*cos(q2) + sin(q2)*cos(q1))*u2**2 + L1*g*m1*sin(q1) - L2*g*m2*sin(q1))/(m1*(-L1**2*m1 - L2**2*m2)*(L1**2*m1*(L1 - L4*(sin(q1)*sin(q2) + cos(q1)*cos(q2)))**2/(L1**2*m1 + L2**2*m2) - L1**2 + 2*L1*L4*(sin(q1)*sin(q2) + cos(q1)*cos(q2)) - L4**2))\n",
      "\n",
      "    # Return the derivatives.\n",
      "    return dydt"
     ],
     "language": "python",
     "metadata": {},
     "outputs": [],
     "prompt_number": 464
    },
    {
     "cell_type": "markdown",
     "metadata": {},
     "source": [
      "Specify the lengths, masses and acceleration due to gravity\n",
      "L1, L2, L4, m1, m2, g)"
     ]
    },
    {
     "cell_type": "code",
     "collapsed": false,
     "input": [
      "parameters = (0.08702, 1.0, 0.18952, 209.98, 0.2, 9.8)"
     ],
     "language": "python",
     "metadata": {},
     "outputs": [],
     "prompt_number": 465
    },
    {
     "cell_type": "markdown",
     "metadata": {},
     "source": [
      "Specify initial conditions for the states"
     ]
    },
    {
     "cell_type": "code",
     "collapsed": false,
     "input": [
      "y0 = [3*math.pi/4.0, 0.0, 0.0, 0.0]"
     ],
     "language": "python",
     "metadata": {},
     "outputs": [],
     "prompt_number": 466
    },
    {
     "cell_type": "markdown",
     "metadata": {},
     "source": [
      "Create a time vector"
     ]
    },
    {
     "cell_type": "code",
     "collapsed": false,
     "input": [
      "t = linspace(0,1, num=int(1/0.005)+1)"
     ],
     "language": "python",
     "metadata": {},
     "outputs": [],
     "prompt_number": 467
    },
    {
     "cell_type": "markdown",
     "metadata": {},
     "source": [
      "Integrate the equations of motion"
     ]
    },
    {
     "cell_type": "code",
     "collapsed": false,
     "input": [
      "y = odeint(rhs, y0, t, parameters)\n",
      "y[:,0]"
     ],
     "language": "python",
     "metadata": {},
     "outputs": [
      {
       "output_type": "pyout",
       "prompt_number": 468,
       "text": [
        "\n",
        "[  2.35619449e+00   2.35442660e+00   2.34913479e+00   2.34035447e+00\n",
        "   2.32814386e+00   2.31258270e+00   2.29377057e+00   2.27182478e+00\n",
        "   2.24687796e+00   2.21907536e+00   2.18857194e+00   2.15552940e+00\n",
        "   2.12011323e+00   2.08248971e+00   2.04282318e+00   2.00127336e+00\n",
        "   1.95799295e+00   1.91312544e+00   1.86680302e+00   1.81914479e+00\n",
        "   1.77025502e+00   1.72022148e+00   1.66911371e+00   1.61698125e+00\n",
        "   1.56385141e+00   1.50972673e+00   1.45458147e+00   1.39835705e+00\n",
        "   1.34095555e+00   1.28223031e+00   1.22197203e+00   1.15988717e+00\n",
        "   1.09556334e+00   1.02841031e+00   9.57552875e-01   8.81616914e-01\n",
        "   7.98242720e-01   7.02733912e-01   5.82741630e-01   3.81744353e-01\n",
        "   1.86488351e-01   6.65718864e-02  -3.12277907e-02  -1.18693532e-01\n",
        "  -2.00445258e-01  -2.78870566e-01  -3.55404140e-01  -4.30992402e-01\n",
        "  -5.06297667e-01  -5.81799220e-01  -6.57847230e-01  -7.34692608e-01\n",
        "  -8.12503540e-01  -8.91374116e-01  -9.71328075e-01  -1.05231952e+00\n",
        "  -1.13423187e+00  -1.21687601e+00  -1.29998865e+00  -1.38323163e+00\n",
        "  -1.46619312e+00  -1.54839164e+00  -1.62928346e+00  -1.70827403e+00\n",
        "  -1.78473365e+00  -1.85801695e+00  -1.92748527e+00  -1.99253070e+00\n",
        "  -2.05259960e+00  -2.10721376e+00  -2.15598738e+00  -2.19863848e+00\n",
        "  -2.23499414e+00  -2.26498961e+00  -2.28866209e+00  -2.30613993e+00\n",
        "  -2.31762877e+00  -2.32339563e+00  -2.32375234e+00  -2.31903923e+00\n",
        "  -2.30961008e+00  -2.29581895e+00  -2.27800922e+00  -2.25650501e+00\n",
        "  -2.23160483e+00  -2.20357721e+00  -2.17265786e+00  -2.13904795e+00\n",
        "  -2.10291313e+00  -2.06438268e+00  -2.02354855e+00  -1.98046369e+00\n",
        "  -1.93513919e+00  -1.88753962e+00  -1.83757540e+00  -1.78509072e+00\n",
        "  -1.72984426e+00  -1.67147762e+00  -1.60946187e+00  -1.54300125e+00\n",
        "  -1.47084538e+00  -1.39087690e+00  -1.29903040e+00  -1.18546119e+00\n",
        "  -1.00852432e+00  -7.60762058e-01  -6.24484805e-01  -5.18111651e-01\n",
        "  -4.23708147e-01  -3.34968115e-01  -2.48684303e-01  -1.62854710e-01\n",
        "  -7.60399358e-02   1.29119006e-02   1.05002750e-01   2.01162213e-01\n",
        "   3.02295980e-01   4.09318999e-01   5.23180256e-01   6.44882836e-01\n",
        "   7.75501396e-01   9.16198231e-01   1.06823783e+00   1.23299596e+00\n",
        "   1.41194568e+00   1.60655780e+00   1.81791945e+00   2.04559900e+00\n",
        "   2.28538678e+00   2.52807467e+00   2.76363920e+00   2.98672959e+00\n",
        "   3.19646947e+00   3.39380768e+00   3.58002314e+00   3.75628708e+00\n",
        "   3.92361626e+00   4.08291918e+00   4.23504867e+00   4.38084442e+00\n",
        "   4.52116810e+00   4.65693863e+00   4.78917757e+00   4.91907971e+00\n",
        "   5.04813863e+00   5.17839592e+00   5.31300883e+00   5.45783696e+00\n",
        "   5.62785437e+00   5.90636698e+00   6.17186816e+00   6.34107588e+00\n",
        "   6.48808642e+00   6.62688999e+00   6.76316622e+00   6.90003560e+00\n",
        "   7.03951386e+00   7.18302120e+00   7.33158372e+00   7.48590597e+00\n",
        "   7.64637777e+00   7.81304265e+00   7.98554406e+00   8.16306470e+00\n",
        "   8.34427890e+00   8.52734660e+00   8.70998711e+00   8.88967379e+00\n",
        "   9.06397079e+00   9.23097252e+00   9.38971807e+00   9.54041146e+00\n",
        "   9.68435747e+00   9.82367192e+00   9.96090514e+00   1.00986754e+01\n",
        "   1.02393284e+01   1.03846082e+01   1.05353673e+01   1.06914122e+01\n",
        "   1.08515789e+01   1.10140340e+01   1.11766739e+01   1.13374760e+01\n",
        "   1.14947224e+01   1.16470968e+01   1.17936920e+01   1.19339678e+01\n",
        "   1.20676899e+01   1.21948650e+01   1.23156841e+01   1.24304750e+01\n",
        "   1.25396668e+01   1.26437653e+01   1.27433403e+01   1.28390231e+01\n",
        "   1.29315178e+01   1.30216293e+01   1.31103204e+01   1.31988208e+01\n",
        "                            1.32888521e+01]                         "
       ]
      }
     ],
     "prompt_number": 468
    },
    {
     "cell_type": "code",
     "collapsed": false,
     "input": [
      "fig = plt.figure()\n",
      "ax = fig.add_subplot(1, 1, 1)\n",
      "ax.plot(t, y[:,0])\n",
      "ax.plot(t, y[:,1])\n",
      "ax.set_title('Trebuchet as Hinged Counterweight')\n",
      "ax.set_xlabel('Time (s)')\n",
      "ax.set_ylabel('Angle(rad)')\n",
      "ax.legend([r'$\\theta$', r'$\\phi$', r'$\\theta^\\prime$', r'$\\phi^\\prime$'])\n",
      "plt.show()"
     ],
     "language": "python",
     "metadata": {},
     "outputs": [
      {
       "output_type": "display_data",
       "png": "[encoded data removed]"
      }
     ],
     "prompt_number": 469
    },
    {
     "cell_type": "code",
     "collapsed": false,
     "input": [
      "fig = plt.figure()\n",
      "ax = fig.add_subplot(1, 1, 1)\n",
      "ax.plot(t, y[:,2])\n",
      "ax.plot(t, y[:,3])\n",
      "ax.set_title('Trebuchet as Hinged Counterweight')\n",
      "ax.set_xlabel('Time (s)')\n",
      "ax.set_ylabel(r'$Angular rate (\\frac{rad}{s})$')\n",
      "ax.legend([r'$\\theta^\\prime$', r'$\\phi^\\prime$'])\n",
      "plt.show()"
     ],
     "language": "python",
     "metadata": {},
     "outputs": [
      {
       "output_type": "display_data",
       "png": "[encoded data removed]"
      }
     ],
     "prompt_number": 470
    },
    {
     "cell_type": "markdown",
     "metadata": {},
     "source": [
      "Extract the maximums"
     ]
    },
    {
     "cell_type": "code",
     "collapsed": false,
     "input": [
      "y_max = y.argmin(axis=0)\n",
      "y_max"
     ],
     "language": "python",
     "metadata": {},
     "outputs": [
      {
       "output_type": "pyout",
       "prompt_number": 471,
       "text": [
        "[ 78 115  39 149]"
       ]
      }
     ],
     "prompt_number": 471
    },
    {
     "cell_type": "code",
     "collapsed": false,
     "input": [
      "max_theta_velocity = y[y_max[2],2]\n",
      "max_theta_velocity"
     ],
     "language": "python",
     "metadata": {},
     "outputs": [
      {
       "output_type": "pyout",
       "png": "[encoded data removed]",
       "prompt_number": 472,
       "text": [
        "-54.520486250489682"
       ]
      }
     ],
     "prompt_number": 472
    },
    {
     "cell_type": "markdown",
     "metadata": {},
     "source": [
      "Tangential velocity"
     ]
    },
    {
     "cell_type": "code",
     "collapsed": false,
     "input": [
      "max_theta_velocity*parameters[1]"
     ],
     "language": "python",
     "metadata": {},
     "outputs": [
      {
       "output_type": "pyout",
       "png": "[encoded data removed]",
       "prompt_number": 473,
       "text": [
        "-54.520486250489682"
       ]
      }
     ],
     "prompt_number": 473
    },
    {
     "cell_type": "code",
     "collapsed": false,
     "input": [],
     "language": "python",
     "metadata": {},
     "outputs": [],
     "prompt_number": 473
    }
   ],
   "metadata": {}
  }
 ]
}