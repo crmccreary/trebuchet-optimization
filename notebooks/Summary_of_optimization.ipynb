{
 "metadata": {
  "name": "Summary_of_optimization"
 },
 "nbformat": 3,
 "nbformat_minor": 0,
 "worksheets": [
  {
   "cells": [
    {
     "cell_type": "code",
     "collapsed": false,
     "input": [
      "import csv\n",
      "import numpy as NP"
     ],
     "language": "python",
     "metadata": {},
     "outputs": [],
     "prompt_number": 67
    },
    {
     "cell_type": "code",
     "collapsed": false,
     "input": [
      "parameters = []\n",
      "rdr = csv.reader(open('run_history.txt', 'rb'), delimiter=',')\n",
      "for row in rdr:\n",
      "    parameters.append(row)\n",
      "data = []\n",
      "for row in parameters[1:]:\n",
      "    data.append([float(r) for r in row])"
     ],
     "language": "python",
     "metadata": {},
     "outputs": [],
     "prompt_number": 68
    },
    {
     "cell_type": "code",
     "collapsed": false,
     "input": [
      "parameter_names = parameters[0]\n",
      "print(parameter_names)"
     ],
     "language": "python",
     "metadata": {},
     "outputs": [
      {
       "output_type": "stream",
       "stream": "stdout",
       "text": [
        "['m1', 'L4', 'L1', 'L3', 'range']\n"
       ]
      }
     ],
     "prompt_number": 69
    },
    {
     "cell_type": "code",
     "collapsed": false,
     "input": [
      "parameter_data = NP.array(data)\n",
      "m1 = parameter_data[:,0]\n",
      "L4 = parameter_data[:,1]\n",
      "L1 = parameter_data[:,2]\n",
      "L3 = parameter_data[:,3]\n",
      "projectile_range = parameter_data[:,4]"
     ],
     "language": "python",
     "metadata": {},
     "outputs": [],
     "prompt_number": 70
    },
    {
     "cell_type": "code",
     "collapsed": false,
     "input": [
      "iterations = range(0,m1.shape[0])\n",
      "print(iterations)"
     ],
     "language": "python",
     "metadata": {},
     "outputs": [
      {
       "output_type": "stream",
       "stream": "stdout",
       "text": [
        "[0, 1, 2, 3, 4, 5, 6, 7, 8, 9, 10, 11, 12, 13, 14, 15, 16, 17, 18, 19, 20, 21, 22, 23, 24, 25, 26, 27, 28, 29, 30, 31, 32, 33, 34, 35, 36, 37, 38, 39]\n"
       ]
      }
     ],
     "prompt_number": 71
    },
    {
     "cell_type": "code",
     "collapsed": false,
     "input": [
      "print(min(m1),max(m1))\n",
      "print(min(L4),max(L4))\n",
      "print(min(L1),max(L1))\n",
      "print(min(L3),max(L3))\n",
      "print(min(projectile_range),max(projectile_range))"
     ],
     "language": "python",
     "metadata": {},
     "outputs": [
      {
       "output_type": "stream",
       "stream": "stdout",
       "text": [
        "(183.66590592099999, 220.0)\n",
        "(0.185697323528, 0.22682288759899999)\n",
        "(0.082313879423100006, 0.11)\n",
        "(0.79109723546599997, 1.1000000000000001)\n",
        "(24.949043, 145.61410599999999)\n"
       ]
      }
     ],
     "prompt_number": 72
    },
    {
     "cell_type": "code",
     "collapsed": false,
     "input": [
      "from pyx import *\n",
      "\n",
      "# a xy-graph has linear x and y axes by default\n",
      "# they might be overwritten and futher axes might be added as well\n",
      "g = graph.graphxy(width=8, \n",
      "                  y=graph.axis.lin(min=180.0,max=230.0,title=r\"$m_1 (kg)$\"), \n",
      "                  y2=graph.axis.lin(min=0.1,max=0.25,title=r\"$L_4 (m)$\"),\n",
      "                  y3=graph.axis.lin(min=0.05,max=0.15,title=r\"$L_1 (m)$\"),\n",
      "                  y4=graph.axis.lin(min=0.75,max=1.25,title=r\"$L_3 (m)$\"),\n",
      "                  y5=graph.axis.lin(min=20.0,max=150.0,title=r\"$Range (m)$\"),\n",
      "                  key = graph.key.key(pos=\"tc\",vinside=0))\n",
      "\n",
      "g.plot(graph.data.values(x=iterations, y=m1,title=r\"$m_1$\"),[graph.style.line(lineattrs=[color.rgb.red,style.linestyle.solid])])\n",
      "g.plot(graph.data.values(x=iterations, y2=L4,title=r\"$L_4$\"),[graph.style.line(lineattrs=[color.rgb.green,style.linestyle.solid])])\n",
      "g.plot(graph.data.values(x=iterations, y3=L1,title=r\"$L_1$\"),[graph.style.line(lineattrs=[color.rgb.blue,style.linestyle.solid])])\n",
      "g.plot(graph.data.values(x=iterations, y4=L3,title=r\"$L_3$\"),[graph.style.line(lineattrs=[color.gray.black,style.linestyle.dashed])])\n",
      "g.plot(graph.data.values(x=iterations, y5=projectile_range,title=r\"$Range$\"),[graph.style.line(lineattrs=[color.rgb.red,style.linestyle.dashed])])\n",
      "g.writePDFfile(\"optimization_results\")"
     ],
     "language": "python",
     "metadata": {},
     "outputs": [],
     "prompt_number": 73
    },
    {
     "cell_type": "code",
     "collapsed": false,
     "input": [],
     "language": "python",
     "metadata": {},
     "outputs": [],
     "prompt_number": 73
    }
   ],
   "metadata": {}
  }
 ]
}