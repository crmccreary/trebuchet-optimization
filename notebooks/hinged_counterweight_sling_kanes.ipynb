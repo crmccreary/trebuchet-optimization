{
 "metadata": {
  "name": "hinged_counterweight_sling_kanes"
 },
 "nbformat": 3,
 "nbformat_minor": 0,
 "worksheets": [
  {
   "cells": [
    {
     "cell_type": "code",
     "collapsed": false,
     "input": [
      "from IPython.core.display import Image\n",
      "Image(filename='TrebuchetMotion_2.jpg')"
     ],
     "language": "python",
     "metadata": {},
     "outputs": [
      {
       "jpeg": "[encoded data removed]",
       "output_type": "pyout",
       "prompt_number": 54,
       "text": [
        "<IPython.core.display.Image object at 0x44baa50>"
       ]
      }
     ],
     "prompt_number": 54
    },
    {
     "cell_type": "code",
     "collapsed": true,
     "input": [
      "from sympy.physics.mechanics import *"
     ],
     "language": "python",
     "metadata": {},
     "outputs": [],
     "prompt_number": 55
    },
    {
     "cell_type": "markdown",
     "metadata": {},
     "source": [
      "We first define our generalized coordinates and generalized speeds:"
     ]
    },
    {
     "cell_type": "code",
     "collapsed": false,
     "input": [
      "q1, q2, q3 = dynamicsymbols('q1 q2 q3')"
     ],
     "language": "python",
     "metadata": {},
     "outputs": [],
     "prompt_number": 56
    },
    {
     "cell_type": "code",
     "collapsed": true,
     "input": [
      "q1_d, q2_d, q3_d = dynamicsymbols('q1 q2 q3' , 1)"
     ],
     "language": "python",
     "metadata": {},
     "outputs": [],
     "prompt_number": 57
    },
    {
     "cell_type": "code",
     "collapsed": true,
     "input": [
      "u1, u2, u3 = dynamicsymbols('u1 u2 u3')"
     ],
     "language": "python",
     "metadata": {},
     "outputs": [],
     "prompt_number": 58
    },
    {
     "cell_type": "code",
     "collapsed": true,
     "input": [
      "u1_d, u2_d, u3_d = dynamicsymbols('u1 u2 u3', 1)"
     ],
     "language": "python",
     "metadata": {},
     "outputs": [],
     "prompt_number": 59
    },
    {
     "cell_type": "markdown",
     "metadata": {},
     "source": [
      "Our variables are \n",
      "$$\n",
      "\\begin{align*}\n",
      "l_1&=& \\mbox{the length of the beam on the counterweight side}\\\\\\\\\n",
      "l_2&=& \\mbox{the length of the beam on the projectile side}\\\\\\\\\n",
      "l_3&=& \\mbox{sling length}\\\\\\\\\n",
      "l_4&=& \\mbox{the length of the counterweight arm}\\\\\\\\\n",
      "m_1&=& \\mbox{the counterweight mass}\\\\\\\\\n",
      "m_2&=& \\mbox{the projectile mass}\\\\\\\\\n",
      "g&=& \\mbox{gravity}\n",
      "\\end{align*}\n",
      "$$"
     ]
    },
    {
     "cell_type": "code",
     "collapsed": true,
     "input": [
      "L1 = Symbol('L1')"
     ],
     "language": "python",
     "metadata": {},
     "outputs": [],
     "prompt_number": 60
    },
    {
     "cell_type": "code",
     "collapsed": true,
     "input": [
      "L2 = Symbol('L2')"
     ],
     "language": "python",
     "metadata": {},
     "outputs": [],
     "prompt_number": 61
    },
    {
     "cell_type": "code",
     "collapsed": false,
     "input": [
      "L3 = Symbol('L3')"
     ],
     "language": "python",
     "metadata": {},
     "outputs": [],
     "prompt_number": 62
    },
    {
     "cell_type": "code",
     "collapsed": false,
     "input": [
      "L4 = Symbol('L4')"
     ],
     "language": "python",
     "metadata": {},
     "outputs": [],
     "prompt_number": 63
    },
    {
     "cell_type": "code",
     "collapsed": true,
     "input": [
      "m1 = Symbol('m1')"
     ],
     "language": "python",
     "metadata": {},
     "outputs": [],
     "prompt_number": 64
    },
    {
     "cell_type": "code",
     "collapsed": true,
     "input": [
      "m2 = Symbol('m2')"
     ],
     "language": "python",
     "metadata": {},
     "outputs": [],
     "prompt_number": 65
    },
    {
     "cell_type": "code",
     "collapsed": true,
     "input": [
      "g = Symbol('g')"
     ],
     "language": "python",
     "metadata": {},
     "outputs": [],
     "prompt_number": 66
    },
    {
     "cell_type": "markdown",
     "metadata": {},
     "source": [
      "Our reference frame is at the axle"
     ]
    },
    {
     "cell_type": "code",
     "collapsed": true,
     "input": [
      "N = ReferenceFrame('N')"
     ],
     "language": "python",
     "metadata": {},
     "outputs": [],
     "prompt_number": 67
    },
    {
     "cell_type": "markdown",
     "metadata": {},
     "source": [
      "Create local frames"
     ]
    },
    {
     "cell_type": "code",
     "collapsed": true,
     "input": [
      "A = N.orientnew('A', 'Axis', [q1, N.z])\n",
      "B = N.orientnew('B', 'Axis', [q2, N.z])\n",
      "C = N.orientnew('C', 'Axis', [q3, N.z])"
     ],
     "language": "python",
     "metadata": {},
     "outputs": [],
     "prompt_number": 68
    },
    {
     "cell_type": "markdown",
     "metadata": {},
     "source": [
      "Define the angular velocity at the axle"
     ]
    },
    {
     "cell_type": "code",
     "collapsed": true,
     "input": [
      "A.set_ang_vel(N, u1 * N.z)\n",
      "B.set_ang_vel(N, u2 * N.z)\n",
      "C.set_ang_vel(N, u3 * N.z)"
     ],
     "language": "python",
     "metadata": {},
     "outputs": [],
     "prompt_number": 69
    },
    {
     "cell_type": "markdown",
     "metadata": {},
     "source": [
      "Locate the origin"
     ]
    },
    {
     "cell_type": "code",
     "collapsed": true,
     "input": [
      "O = Point('O')"
     ],
     "language": "python",
     "metadata": {},
     "outputs": [],
     "prompt_number": 70
    },
    {
     "cell_type": "markdown",
     "metadata": {},
     "source": [
      "Locate the counterweight beam joint"
     ]
    },
    {
     "cell_type": "code",
     "collapsed": true,
     "input": [
      "P = O.locatenew('P', L1 * A.x)"
     ],
     "language": "python",
     "metadata": {},
     "outputs": [],
     "prompt_number": 71
    },
    {
     "cell_type": "markdown",
     "metadata": {},
     "source": [
      "Locate the sling joint"
     ]
    },
    {
     "cell_type": "code",
     "collapsed": true,
     "input": [
      "Q = O.locatenew('Q', -L2 * A.x)"
     ],
     "language": "python",
     "metadata": {},
     "outputs": [],
     "prompt_number": 72
    },
    {
     "cell_type": "markdown",
     "metadata": {},
     "source": [
      "Locate the projectile"
     ]
    },
    {
     "cell_type": "code",
     "collapsed": false,
     "input": [
      "S = O.locatenew('S', L3 * C.x)"
     ],
     "language": "python",
     "metadata": {},
     "outputs": [],
     "prompt_number": 73
    },
    {
     "cell_type": "markdown",
     "metadata": {},
     "source": [
      "Locate the counterweight mass"
     ]
    },
    {
     "cell_type": "code",
     "collapsed": false,
     "input": [
      "R = O.locatenew('R', L4 * B.x)"
     ],
     "language": "python",
     "metadata": {},
     "outputs": [],
     "prompt_number": 74
    },
    {
     "cell_type": "code",
     "collapsed": true,
     "input": [
      "O.set_vel(N, 0)"
     ],
     "language": "python",
     "metadata": {},
     "outputs": [],
     "prompt_number": 75
    },
    {
     "cell_type": "code",
     "collapsed": false,
     "input": [
      "P.v2pt_theory(O, N, A)"
     ],
     "language": "python",
     "metadata": {},
     "outputs": [
      {
       "output_type": "pyout",
       "prompt_number": 76,
       "text": [
        "L\u2081\u22c5u\u2081*\u001b[94m\u001b[1ma_y\u001b[0;0m\u001b[0;0m"
       ]
      }
     ],
     "prompt_number": 76
    },
    {
     "cell_type": "code",
     "collapsed": false,
     "input": [
      "Q.v2pt_theory(O, N, A)"
     ],
     "language": "python",
     "metadata": {},
     "outputs": [
      {
       "output_type": "pyout",
       "prompt_number": 77,
       "text": [
        "- L\u2082\u22c5u\u2081*\u001b[94m\u001b[1ma_y\u001b[0;0m\u001b[0;0m"
       ]
      }
     ],
     "prompt_number": 77
    },
    {
     "cell_type": "code",
     "collapsed": false,
     "input": [
      "R.v2pt_theory(P, N, B)"
     ],
     "language": "python",
     "metadata": {},
     "outputs": [
      {
       "output_type": "pyout",
       "prompt_number": 78,
       "text": [
        "(L\u2081\u22c5u\u2081 - L\u2081\u22c5u\u2082)*\u001b[94m\u001b[1ma_y\u001b[0;0m\u001b[0;0m + L\u2084\u22c5u\u2082*\u001b[94m\u001b[1mb_y\u001b[0;0m\u001b[0;0m"
       ]
      }
     ],
     "prompt_number": 78
    },
    {
     "cell_type": "code",
     "collapsed": false,
     "input": [
      "S.v2pt_theory(Q, N, C)"
     ],
     "language": "python",
     "metadata": {},
     "outputs": [
      {
       "output_type": "pyout",
       "prompt_number": 79,
       "text": [
        "(-L\u2082\u22c5u\u2081 + L\u2082\u22c5u\u2083)*\u001b[94m\u001b[1ma_y\u001b[0;0m\u001b[0;0m + L\u2083\u22c5u\u2083*\u001b[94m\u001b[1mc_y\u001b[0;0m\u001b[0;0m"
       ]
      }
     ],
     "prompt_number": 79
    },
    {
     "cell_type": "markdown",
     "metadata": {},
     "source": [
      "Define the masses"
     ]
    },
    {
     "cell_type": "code",
     "collapsed": true,
     "input": [
      "ParR = Particle('ParR', R, m1)"
     ],
     "language": "python",
     "metadata": {},
     "outputs": [],
     "prompt_number": 80
    },
    {
     "cell_type": "code",
     "collapsed": true,
     "input": [
      "ParS = Particle('ParS', S, m2)"
     ],
     "language": "python",
     "metadata": {},
     "outputs": [],
     "prompt_number": 81
    },
    {
     "cell_type": "code",
     "collapsed": true,
     "input": [
      "kd = [q1_d - u1, q2_d - u2, q3_d - u3]"
     ],
     "language": "python",
     "metadata": {},
     "outputs": [],
     "prompt_number": 82
    },
    {
     "cell_type": "code",
     "collapsed": true,
     "input": [
      "FL = [(R, m1 * g * N.x), (S, m2 * g * N.x)]"
     ],
     "language": "python",
     "metadata": {},
     "outputs": [],
     "prompt_number": 83
    },
    {
     "cell_type": "code",
     "collapsed": true,
     "input": [
      "BL = [ParR, ParS]"
     ],
     "language": "python",
     "metadata": {},
     "outputs": [],
     "prompt_number": 84
    },
    {
     "cell_type": "code",
     "collapsed": true,
     "input": [
      "KM = Kane(N)"
     ],
     "language": "python",
     "metadata": {},
     "outputs": [],
     "prompt_number": 85
    },
    {
     "cell_type": "code",
     "collapsed": true,
     "input": [
      "KM.coords([q1,q2,q3])"
     ],
     "language": "python",
     "metadata": {},
     "outputs": [],
     "prompt_number": 86
    },
    {
     "cell_type": "code",
     "collapsed": true,
     "input": [
      "KM.speeds([u1,u2,u3])"
     ],
     "language": "python",
     "metadata": {},
     "outputs": [],
     "prompt_number": 87
    },
    {
     "cell_type": "code",
     "collapsed": true,
     "input": [
      "KM.kindiffeq(kd)"
     ],
     "language": "python",
     "metadata": {},
     "outputs": [],
     "prompt_number": 88
    },
    {
     "cell_type": "code",
     "collapsed": true,
     "input": [
      "(fr, frstar) = KM.kanes_equations(FL, BL)"
     ],
     "language": "python",
     "metadata": {},
     "outputs": [],
     "prompt_number": 89
    },
    {
     "cell_type": "code",
     "collapsed": true,
     "input": [
      "kdd = KM.kindiffdict()"
     ],
     "language": "python",
     "metadata": {},
     "outputs": [],
     "prompt_number": 90
    },
    {
     "cell_type": "code",
     "collapsed": true,
     "input": [
      "mm = KM.mass_matrix_full"
     ],
     "language": "python",
     "metadata": {},
     "outputs": [],
     "prompt_number": 91
    },
    {
     "cell_type": "code",
     "collapsed": true,
     "input": [
      "fo = KM.forcing_full"
     ],
     "language": "python",
     "metadata": {},
     "outputs": [],
     "prompt_number": 92
    },
    {
     "cell_type": "code",
     "collapsed": true,
     "input": [
      "qudots = mm.inv() * fo"
     ],
     "language": "python",
     "metadata": {},
     "outputs": [],
     "prompt_number": 93
    },
    {
     "cell_type": "code",
     "collapsed": true,
     "input": [
      "qudots = qudots.subs(kdd)"
     ],
     "language": "python",
     "metadata": {},
     "outputs": [],
     "prompt_number": 94
    },
    {
     "cell_type": "code",
     "collapsed": true,
     "input": [
      "mechanics_printing()"
     ],
     "language": "python",
     "metadata": {},
     "outputs": [],
     "prompt_number": 95
    },
    {
     "cell_type": "markdown",
     "metadata": {},
     "source": [
      "Resulting system of differential equations"
     ]
    },
    {
     "cell_type": "code",
     "collapsed": false,
     "input": [
      "mprint(qudots[3])"
     ],
     "language": "python",
     "metadata": {},
     "outputs": [
      {
       "output_type": "stream",
       "stream": "stdout",
       "text": [
        "(-(L1**2*m1 - L1*L4*m1*(sin(q1)*sin(q2) + cos(q1)*cos(q2)))/(m1*(-L1**2*m1 - L2**2*m2)*(L1**2*m1*(L1 - L4*(sin(q1)*sin(q2) + cos(q1)*cos(q2)))**2/(L1**2*m1 + L2**2*m2) - L1**2 + 2*L1*L4*(sin(q1)*sin(q2) + cos(q1)*cos(q2)) - L4**2)) - (L1**2*m1 - L1*L4*m1*(sin(q1)*sin(q2) + cos(q1)*cos(q2)))*(L2**2*m2 + L2*L3*m2*(sin(q1)*sin(q3) + cos(q1)*cos(q3)))*((L2**2*m2 + L2*L3*m2*(sin(q1)*sin(q3) + cos(q1)*cos(q3)))/(-L1**2*m1 - L2**2*m2) + (L1**2*m1 - L1*L4*m1*(sin(q1)*sin(q2) + cos(q1)*cos(q2)))**2*(L2**2*m2 + L2*L3*m2*(sin(q1)*sin(q3) + cos(q1)*cos(q3)))/(m1*(-L1**2*m1 - L2**2*m2)**2*(L1**2*m1*(L1 - L4*(sin(q1)*sin(q2) + cos(q1)*cos(q2)))**2/(L1**2*m1 + L2**2*m2) - L1**2 + 2*L1*L4*(sin(q1)*sin(q2) + cos(q1)*cos(q2)) - L4**2)))/(m1*m2*(-L1**2*m1 - L2**2*m2)*(L1**2*m1*(L1 - L4*(sin(q1)*sin(q2) + cos(q1)*cos(q2)))**2/(L1**2*m1 + L2**2*m2) - L1**2 + 2*L1*L4*(sin(q1)*sin(q2) + cos(q1)*cos(q2)) - L4**2)*(-L1**2*L2**2*m1*m2*(L1 - L4*(sin(q1)*sin(q2) + cos(q1)*cos(q2)))**2*(L2 + L3*(sin(q1)*sin(q3) + cos(q1)*cos(q3)))**2/((L1**2*m1 + L2**2*m2)**2*(L1**2*m1*(L1 - L4*(sin(q1)*sin(q2) + cos(q1)*cos(q2)))**2/(L1**2*m1 + L2**2*m2) - L1**2 + 2*L1*L4*(sin(q1)*sin(q2) + cos(q1)*cos(q2)) - L4**2)) + L2**2*m2*(L2 + L3*(sin(q1)*sin(q3) + cos(q1)*cos(q3)))**2/(L1**2*m1 + L2**2*m2) - L2**2 - 2*L2*L3*(sin(q1)*sin(q3) + cos(q1)*cos(q3)) - L3**2)))*(L1*L4*m1*(-sin(q1)*cos(q2) + sin(q2)*cos(q1))*u2**2 - L1*g*m1*sin(q1) + L4*g*m1*sin(q2) - L4*m1*(L1*u1 - L1*u2)*(sin(q1)*cos(q2) - sin(q2)*cos(q1))*u1) + (1/(-L1**2*m1 - L2**2*m2) - (-(L2**2*m2 + L2*L3*m2*(sin(q1)*sin(q3) + cos(q1)*cos(q3)))/(-L1**2*m1 - L2**2*m2) - (L1**2*m1 - L1*L4*m1*(sin(q1)*sin(q2) + cos(q1)*cos(q2)))**2*(L2**2*m2 + L2*L3*m2*(sin(q1)*sin(q3) + cos(q1)*cos(q3)))/(m1*(-L1**2*m1 - L2**2*m2)**2*(L1**2*m1*(L1 - L4*(sin(q1)*sin(q2) + cos(q1)*cos(q2)))**2/(L1**2*m1 + L2**2*m2) - L1**2 + 2*L1*L4*(sin(q1)*sin(q2) + cos(q1)*cos(q2)) - L4**2)))*((L2**2*m2 + L2*L3*m2*(sin(q1)*sin(q3) + cos(q1)*cos(q3)))/(-L1**2*m1 - L2**2*m2) + (L1**2*m1 - L1*L4*m1*(sin(q1)*sin(q2) + cos(q1)*cos(q2)))**2*(L2**2*m2 + L2*L3*m2*(sin(q1)*sin(q3) + cos(q1)*cos(q3)))/(m1*(-L1**2*m1 - L2**2*m2)**2*(L1**2*m1*(L1 - L4*(sin(q1)*sin(q2) + cos(q1)*cos(q2)))**2/(L1**2*m1 + L2**2*m2) - L1**2 + 2*L1*L4*(sin(q1)*sin(q2) + cos(q1)*cos(q2)) - L4**2)))/(m2*(-L1**2*L2**2*m1*m2*(L1 - L4*(sin(q1)*sin(q2) + cos(q1)*cos(q2)))**2*(L2 + L3*(sin(q1)*sin(q3) + cos(q1)*cos(q3)))**2/((L1**2*m1 + L2**2*m2)**2*(L1**2*m1*(L1 - L4*(sin(q1)*sin(q2) + cos(q1)*cos(q2)))**2/(L1**2*m1 + L2**2*m2) - L1**2 + 2*L1*L4*(sin(q1)*sin(q2) + cos(q1)*cos(q2)) - L4**2)) + L2**2*m2*(L2 + L3*(sin(q1)*sin(q3) + cos(q1)*cos(q3)))**2/(L1**2*m1 + L2**2*m2) - L2**2 - 2*L2*L3*(sin(q1)*sin(q3) + cos(q1)*cos(q3)) - L3**2)) + (L1**2*m1 - L1*L4*m1*(sin(q1)*sin(q2) + cos(q1)*cos(q2)))**2/(m1*(-L1**2*m1 - L2**2*m2)**2*(L1**2*m1*(L1 - L4*(sin(q1)*sin(q2) + cos(q1)*cos(q2)))**2/(L1**2*m1 + L2**2*m2) - L1**2 + 2*L1*L4*(sin(q1)*sin(q2) + cos(q1)*cos(q2)) - L4**2)))*(-L1*L4*m1*(-sin(q1)*cos(q2) + sin(q2)*cos(q1))*u2**2 + L1*g*m1*sin(q1) + L2*L3*m2*(-sin(q1)*cos(q3) + sin(q3)*cos(q1))*u3**2 - L2*g*m2*sin(q1)) - ((L2**2*m2 + L2*L3*m2*(sin(q1)*sin(q3) + cos(q1)*cos(q3)))/(-L1**2*m1 - L2**2*m2) + (L1**2*m1 - L1*L4*m1*(sin(q1)*sin(q2) + cos(q1)*cos(q2)))**2*(L2**2*m2 + L2*L3*m2*(sin(q1)*sin(q3) + cos(q1)*cos(q3)))/(m1*(-L1**2*m1 - L2**2*m2)**2*(L1**2*m1*(L1 - L4*(sin(q1)*sin(q2) + cos(q1)*cos(q2)))**2/(L1**2*m1 + L2**2*m2) - L1**2 + 2*L1*L4*(sin(q1)*sin(q2) + cos(q1)*cos(q2)) - L4**2)))*(-L2*L3*m2*(-sin(q1)*cos(q3) + sin(q3)*cos(q1))*u3**2 + L2*g*m2*sin(q1) + L3*g*m2*sin(q3) - L3*m2*(-L2*u1 + L2*u3)*(sin(q1)*cos(q3) - sin(q3)*cos(q1))*u1)/(m2*(-L1**2*L2**2*m1*m2*(L1 - L4*(sin(q1)*sin(q2) + cos(q1)*cos(q2)))**2*(L2 + L3*(sin(q1)*sin(q3) + cos(q1)*cos(q3)))**2/((L1**2*m1 + L2**2*m2)**2*(L1**2*m1*(L1 - L4*(sin(q1)*sin(q2) + cos(q1)*cos(q2)))**2/(L1**2*m1 + L2**2*m2) - L1**2 + 2*L1*L4*(sin(q1)*sin(q2) + cos(q1)*cos(q2)) - L4**2)) + L2**2*m2*(L2 + L3*(sin(q1)*sin(q3) + cos(q1)*cos(q3)))**2/(L1**2*m1 + L2**2*m2) - L2**2 - 2*L2*L3*(sin(q1)*sin(q3) + cos(q1)*cos(q3)) - L3**2))\n"
       ]
      }
     ],
     "prompt_number": 96
    },
    {
     "cell_type": "code",
     "collapsed": false,
     "input": [
      "mprint(qudots[4])"
     ],
     "language": "python",
     "metadata": {},
     "outputs": [
      {
       "output_type": "stream",
       "stream": "stdout",
       "text": [
        "(1/(m1*(L1**2*m1*(L1 - L4*(sin(q1)*sin(q2) + cos(q1)*cos(q2)))**2/(L1**2*m1 + L2**2*m2) - L1**2 + 2*L1*L4*(sin(q1)*sin(q2) + cos(q1)*cos(q2)) - L4**2)) + (L1**2*m1 - L1*L4*m1*(sin(q1)*sin(q2) + cos(q1)*cos(q2)))**2*(L2**2*m2 + L2*L3*m2*(sin(q1)*sin(q3) + cos(q1)*cos(q3)))**2/(m1**2*m2*(-L1**2*m1 - L2**2*m2)**2*(L1**2*m1*(L1 - L4*(sin(q1)*sin(q2) + cos(q1)*cos(q2)))**2/(L1**2*m1 + L2**2*m2) - L1**2 + 2*L1*L4*(sin(q1)*sin(q2) + cos(q1)*cos(q2)) - L4**2)**2*(-L1**2*L2**2*m1*m2*(L1 - L4*(sin(q1)*sin(q2) + cos(q1)*cos(q2)))**2*(L2 + L3*(sin(q1)*sin(q3) + cos(q1)*cos(q3)))**2/((L1**2*m1 + L2**2*m2)**2*(L1**2*m1*(L1 - L4*(sin(q1)*sin(q2) + cos(q1)*cos(q2)))**2/(L1**2*m1 + L2**2*m2) - L1**2 + 2*L1*L4*(sin(q1)*sin(q2) + cos(q1)*cos(q2)) - L4**2)) + L2**2*m2*(L2 + L3*(sin(q1)*sin(q3) + cos(q1)*cos(q3)))**2/(L1**2*m1 + L2**2*m2) - L2**2 - 2*L2*L3*(sin(q1)*sin(q3) + cos(q1)*cos(q3)) - L3**2)))*(L1*L4*m1*(-sin(q1)*cos(q2) + sin(q2)*cos(q1))*u2**2 - L1*g*m1*sin(q1) + L4*g*m1*sin(q2) - L4*m1*(L1*u1 - L1*u2)*(sin(q1)*cos(q2) - sin(q2)*cos(q1))*u1) + (-(L1**2*m1 - L1*L4*m1*(sin(q1)*sin(q2) + cos(q1)*cos(q2)))/(m1*(-L1**2*m1 - L2**2*m2)*(L1**2*m1*(L1 - L4*(sin(q1)*sin(q2) + cos(q1)*cos(q2)))**2/(L1**2*m1 + L2**2*m2) - L1**2 + 2*L1*L4*(sin(q1)*sin(q2) + cos(q1)*cos(q2)) - L4**2)) + (L1**2*m1 - L1*L4*m1*(sin(q1)*sin(q2) + cos(q1)*cos(q2)))*(L2**2*m2 + L2*L3*m2*(sin(q1)*sin(q3) + cos(q1)*cos(q3)))*(-(L2**2*m2 + L2*L3*m2*(sin(q1)*sin(q3) + cos(q1)*cos(q3)))/(-L1**2*m1 - L2**2*m2) - (L1**2*m1 - L1*L4*m1*(sin(q1)*sin(q2) + cos(q1)*cos(q2)))**2*(L2**2*m2 + L2*L3*m2*(sin(q1)*sin(q3) + cos(q1)*cos(q3)))/(m1*(-L1**2*m1 - L2**2*m2)**2*(L1**2*m1*(L1 - L4*(sin(q1)*sin(q2) + cos(q1)*cos(q2)))**2/(L1**2*m1 + L2**2*m2) - L1**2 + 2*L1*L4*(sin(q1)*sin(q2) + cos(q1)*cos(q2)) - L4**2)))/(m1*m2*(-L1**2*m1 - L2**2*m2)*(L1**2*m1*(L1 - L4*(sin(q1)*sin(q2) + cos(q1)*cos(q2)))**2/(L1**2*m1 + L2**2*m2) - L1**2 + 2*L1*L4*(sin(q1)*sin(q2) + cos(q1)*cos(q2)) - L4**2)*(-L1**2*L2**2*m1*m2*(L1 - L4*(sin(q1)*sin(q2) + cos(q1)*cos(q2)))**2*(L2 + L3*(sin(q1)*sin(q3) + cos(q1)*cos(q3)))**2/((L1**2*m1 + L2**2*m2)**2*(L1**2*m1*(L1 - L4*(sin(q1)*sin(q2) + cos(q1)*cos(q2)))**2/(L1**2*m1 + L2**2*m2) - L1**2 + 2*L1*L4*(sin(q1)*sin(q2) + cos(q1)*cos(q2)) - L4**2)) + L2**2*m2*(L2 + L3*(sin(q1)*sin(q3) + cos(q1)*cos(q3)))**2/(L1**2*m1 + L2**2*m2) - L2**2 - 2*L2*L3*(sin(q1)*sin(q3) + cos(q1)*cos(q3)) - L3**2)))*(-L1*L4*m1*(-sin(q1)*cos(q2) + sin(q2)*cos(q1))*u2**2 + L1*g*m1*sin(q1) + L2*L3*m2*(-sin(q1)*cos(q3) + sin(q3)*cos(q1))*u3**2 - L2*g*m2*sin(q1)) + (L1**2*m1 - L1*L4*m1*(sin(q1)*sin(q2) + cos(q1)*cos(q2)))*(L2**2*m2 + L2*L3*m2*(sin(q1)*sin(q3) + cos(q1)*cos(q3)))*(-L2*L3*m2*(-sin(q1)*cos(q3) + sin(q3)*cos(q1))*u3**2 + L2*g*m2*sin(q1) + L3*g*m2*sin(q3) - L3*m2*(-L2*u1 + L2*u3)*(sin(q1)*cos(q3) - sin(q3)*cos(q1))*u1)/(m1*m2*(-L1**2*m1 - L2**2*m2)*(L1**2*m1*(L1 - L4*(sin(q1)*sin(q2) + cos(q1)*cos(q2)))**2/(L1**2*m1 + L2**2*m2) - L1**2 + 2*L1*L4*(sin(q1)*sin(q2) + cos(q1)*cos(q2)) - L4**2)*(-L1**2*L2**2*m1*m2*(L1 - L4*(sin(q1)*sin(q2) + cos(q1)*cos(q2)))**2*(L2 + L3*(sin(q1)*sin(q3) + cos(q1)*cos(q3)))**2/((L1**2*m1 + L2**2*m2)**2*(L1**2*m1*(L1 - L4*(sin(q1)*sin(q2) + cos(q1)*cos(q2)))**2/(L1**2*m1 + L2**2*m2) - L1**2 + 2*L1*L4*(sin(q1)*sin(q2) + cos(q1)*cos(q2)) - L4**2)) + L2**2*m2*(L2 + L3*(sin(q1)*sin(q3) + cos(q1)*cos(q3)))**2/(L1**2*m1 + L2**2*m2) - L2**2 - 2*L2*L3*(sin(q1)*sin(q3) + cos(q1)*cos(q3)) - L3**2))\n"
       ]
      }
     ],
     "prompt_number": 97
    },
    {
     "cell_type": "code",
     "collapsed": false,
     "input": [
      "mprint(qudots[5])"
     ],
     "language": "python",
     "metadata": {},
     "outputs": [
      {
       "output_type": "stream",
       "stream": "stdout",
       "text": [
        "(-(L2**2*m2 + L2*L3*m2*(sin(q1)*sin(q3) + cos(q1)*cos(q3)))/(-L1**2*m1 - L2**2*m2) - (L1**2*m1 - L1*L4*m1*(sin(q1)*sin(q2) + cos(q1)*cos(q2)))**2*(L2**2*m2 + L2*L3*m2*(sin(q1)*sin(q3) + cos(q1)*cos(q3)))/(m1*(-L1**2*m1 - L2**2*m2)**2*(L1**2*m1*(L1 - L4*(sin(q1)*sin(q2) + cos(q1)*cos(q2)))**2/(L1**2*m1 + L2**2*m2) - L1**2 + 2*L1*L4*(sin(q1)*sin(q2) + cos(q1)*cos(q2)) - L4**2)))*(-L1*L4*m1*(-sin(q1)*cos(q2) + sin(q2)*cos(q1))*u2**2 + L1*g*m1*sin(q1) + L2*L3*m2*(-sin(q1)*cos(q3) + sin(q3)*cos(q1))*u3**2 - L2*g*m2*sin(q1))/(m2*(-L1**2*L2**2*m1*m2*(L1 - L4*(sin(q1)*sin(q2) + cos(q1)*cos(q2)))**2*(L2 + L3*(sin(q1)*sin(q3) + cos(q1)*cos(q3)))**2/((L1**2*m1 + L2**2*m2)**2*(L1**2*m1*(L1 - L4*(sin(q1)*sin(q2) + cos(q1)*cos(q2)))**2/(L1**2*m1 + L2**2*m2) - L1**2 + 2*L1*L4*(sin(q1)*sin(q2) + cos(q1)*cos(q2)) - L4**2)) + L2**2*m2*(L2 + L3*(sin(q1)*sin(q3) + cos(q1)*cos(q3)))**2/(L1**2*m1 + L2**2*m2) - L2**2 - 2*L2*L3*(sin(q1)*sin(q3) + cos(q1)*cos(q3)) - L3**2)) + (-L2*L3*m2*(-sin(q1)*cos(q3) + sin(q3)*cos(q1))*u3**2 + L2*g*m2*sin(q1) + L3*g*m2*sin(q3) - L3*m2*(-L2*u1 + L2*u3)*(sin(q1)*cos(q3) - sin(q3)*cos(q1))*u1)/(m2*(-L1**2*L2**2*m1*m2*(L1 - L4*(sin(q1)*sin(q2) + cos(q1)*cos(q2)))**2*(L2 + L3*(sin(q1)*sin(q3) + cos(q1)*cos(q3)))**2/((L1**2*m1 + L2**2*m2)**2*(L1**2*m1*(L1 - L4*(sin(q1)*sin(q2) + cos(q1)*cos(q2)))**2/(L1**2*m1 + L2**2*m2) - L1**2 + 2*L1*L4*(sin(q1)*sin(q2) + cos(q1)*cos(q2)) - L4**2)) + L2**2*m2*(L2 + L3*(sin(q1)*sin(q3) + cos(q1)*cos(q3)))**2/(L1**2*m1 + L2**2*m2) - L2**2 - 2*L2*L3*(sin(q1)*sin(q3) + cos(q1)*cos(q3)) - L3**2)) + (L1**2*m1 - L1*L4*m1*(sin(q1)*sin(q2) + cos(q1)*cos(q2)))*(L2**2*m2 + L2*L3*m2*(sin(q1)*sin(q3) + cos(q1)*cos(q3)))*(L1*L4*m1*(-sin(q1)*cos(q2) + sin(q2)*cos(q1))*u2**2 - L1*g*m1*sin(q1) + L4*g*m1*sin(q2) - L4*m1*(L1*u1 - L1*u2)*(sin(q1)*cos(q2) - sin(q2)*cos(q1))*u1)/(m1*m2*(-L1**2*m1 - L2**2*m2)*(L1**2*m1*(L1 - L4*(sin(q1)*sin(q2) + cos(q1)*cos(q2)))**2/(L1**2*m1 + L2**2*m2) - L1**2 + 2*L1*L4*(sin(q1)*sin(q2) + cos(q1)*cos(q2)) - L4**2)*(-L1**2*L2**2*m1*m2*(L1 - L4*(sin(q1)*sin(q2) + cos(q1)*cos(q2)))**2*(L2 + L3*(sin(q1)*sin(q3) + cos(q1)*cos(q3)))**2/((L1**2*m1 + L2**2*m2)**2*(L1**2*m1*(L1 - L4*(sin(q1)*sin(q2) + cos(q1)*cos(q2)))**2/(L1**2*m1 + L2**2*m2) - L1**2 + 2*L1*L4*(sin(q1)*sin(q2) + cos(q1)*cos(q2)) - L4**2)) + L2**2*m2*(L2 + L3*(sin(q1)*sin(q3) + cos(q1)*cos(q3)))**2/(L1**2*m1 + L2**2*m2) - L2**2 - 2*L2*L3*(sin(q1)*sin(q3) + cos(q1)*cos(q3)) - L3**2))\n"
       ]
      }
     ],
     "prompt_number": 98
    },
    {
     "cell_type": "code",
     "collapsed": true,
     "input": [
      "from numpy import sin, cos, linspace, zeros\n",
      "import matplotlib.pyplot as plt\n",
      "from scipy.integrate import odeint\n",
      "import math"
     ],
     "language": "python",
     "metadata": {},
     "outputs": [],
     "prompt_number": 99
    },
    {
     "cell_type": "code",
     "collapsed": false,
     "input": [
      "def rhs(y, t, L1, L2, L3, L4, m1, m2, g):\n",
      "    \"\"\"Returns the derivatives of the states at the given time for the given\n",
      "    set of parameters.\n",
      "\n",
      "    Parameters\n",
      "    ----------\n",
      "    y :  array_like, shape(n,)\n",
      "         An array of the current states.\n",
      "    t :  float\n",
      "         The current time.\n",
      "    L1 : float\n",
      "         Arm length to counterweight arm joint.\n",
      "    L2 : float\n",
      "         Arm length for mass 2.\n",
      "    L4 : float\n",
      "         Counterweight arm length\n",
      "    m1 : float\n",
      "         Counterweight mass.\n",
      "    m2 : float\n",
      "         Projectile mass.\n",
      "    g :  float\n",
      "         Acceleration due to gravity.\n",
      "\n",
      "    Returns\n",
      "    -------\n",
      "    dydt : array_like, shape(n,)\n",
      "        An array of the current derivatives of the states.\n",
      "\n",
      "    Notes\n",
      "    -----\n",
      "    The units and order of the states, time and parameters should be\n",
      "    consistent.\n",
      "\n",
      "    \"\"\"\n",
      "    # Unpack the states so you can use the variable names in the\n",
      "    # sympy.physics.mechanics equations\n",
      "    q1, q2, q3, u1, u2 , u3= y\n",
      "\n",
      "    # Initialize a vector for the derivatives.\n",
      "    dydt = zeros((len(y)))\n",
      "\n",
      "    # Compute the derivatives, these are pasted in from the\n",
      "    # sympy.physics.mechanics results.\n",
      "    dydt[0] = u1\n",
      "    dydt[1] = u2\n",
      "    dydt[2] = u3\n",
      "    dydt[3] = (-(L1**2*m1 - L1*L4*m1*(sin(q1)*sin(q2) + cos(q1)*cos(q2)))/(m1*(-L1**2*m1 - L2**2*m2)*(L1**2*m1*(L1 - L4*(sin(q1)*sin(q2) + cos(q1)*cos(q2)))**2/(L1**2*m1 + L2**2*m2) - L1**2 + 2*L1*L4*(sin(q1)*sin(q2) + cos(q1)*cos(q2)) - L4**2)) - (L1**2*m1 - L1*L4*m1*(sin(q1)*sin(q2) + cos(q1)*cos(q2)))*(L2**2*m2 + L2*L3*m2*(sin(q1)*sin(q3) + cos(q1)*cos(q3)))*((L2**2*m2 + L2*L3*m2*(sin(q1)*sin(q3) + cos(q1)*cos(q3)))/(-L1**2*m1 - L2**2*m2) + (L1**2*m1 - L1*L4*m1*(sin(q1)*sin(q2) + cos(q1)*cos(q2)))**2*(L2**2*m2 + L2*L3*m2*(sin(q1)*sin(q3) + cos(q1)*cos(q3)))/(m1*(-L1**2*m1 - L2**2*m2)**2*(L1**2*m1*(L1 - L4*(sin(q1)*sin(q2) + cos(q1)*cos(q2)))**2/(L1**2*m1 + L2**2*m2) - L1**2 + 2*L1*L4*(sin(q1)*sin(q2) + cos(q1)*cos(q2)) - L4**2)))/(m1*m2*(-L1**2*m1 - L2**2*m2)*(L1**2*m1*(L1 - L4*(sin(q1)*sin(q2) + cos(q1)*cos(q2)))**2/(L1**2*m1 + L2**2*m2) - L1**2 + 2*L1*L4*(sin(q1)*sin(q2) + cos(q1)*cos(q2)) - L4**2)*(-L1**2*L2**2*m1*m2*(L1 - L4*(sin(q1)*sin(q2) + cos(q1)*cos(q2)))**2*(L2 + L3*(sin(q1)*sin(q3) + cos(q1)*cos(q3)))**2/((L1**2*m1 + L2**2*m2)**2*(L1**2*m1*(L1 - L4*(sin(q1)*sin(q2) + cos(q1)*cos(q2)))**2/(L1**2*m1 + L2**2*m2) - L1**2 + 2*L1*L4*(sin(q1)*sin(q2) + cos(q1)*cos(q2)) - L4**2)) + L2**2*m2*(L2 + L3*(sin(q1)*sin(q3) + cos(q1)*cos(q3)))**2/(L1**2*m1 + L2**2*m2) - L2**2 - 2*L2*L3*(sin(q1)*sin(q3) + cos(q1)*cos(q3)) - L3**2)))*(L1*L4*m1*(-sin(q1)*cos(q2) + sin(q2)*cos(q1))*u2**2 - L1*g*m1*sin(q1) + L4*g*m1*sin(q2) - L4*m1*(L1*u1 - L1*u2)*(sin(q1)*cos(q2) - sin(q2)*cos(q1))*u1) + (1/(-L1**2*m1 - L2**2*m2) - (-(L2**2*m2 + L2*L3*m2*(sin(q1)*sin(q3) + cos(q1)*cos(q3)))/(-L1**2*m1 - L2**2*m2) - (L1**2*m1 - L1*L4*m1*(sin(q1)*sin(q2) + cos(q1)*cos(q2)))**2*(L2**2*m2 + L2*L3*m2*(sin(q1)*sin(q3) + cos(q1)*cos(q3)))/(m1*(-L1**2*m1 - L2**2*m2)**2*(L1**2*m1*(L1 - L4*(sin(q1)*sin(q2) + cos(q1)*cos(q2)))**2/(L1**2*m1 + L2**2*m2) - L1**2 + 2*L1*L4*(sin(q1)*sin(q2) + cos(q1)*cos(q2)) - L4**2)))*((L2**2*m2 + L2*L3*m2*(sin(q1)*sin(q3) + cos(q1)*cos(q3)))/(-L1**2*m1 - L2**2*m2) + (L1**2*m1 - L1*L4*m1*(sin(q1)*sin(q2) + cos(q1)*cos(q2)))**2*(L2**2*m2 + L2*L3*m2*(sin(q1)*sin(q3) + cos(q1)*cos(q3)))/(m1*(-L1**2*m1 - L2**2*m2)**2*(L1**2*m1*(L1 - L4*(sin(q1)*sin(q2) + cos(q1)*cos(q2)))**2/(L1**2*m1 + L2**2*m2) - L1**2 + 2*L1*L4*(sin(q1)*sin(q2) + cos(q1)*cos(q2)) - L4**2)))/(m2*(-L1**2*L2**2*m1*m2*(L1 - L4*(sin(q1)*sin(q2) + cos(q1)*cos(q2)))**2*(L2 + L3*(sin(q1)*sin(q3) + cos(q1)*cos(q3)))**2/((L1**2*m1 + L2**2*m2)**2*(L1**2*m1*(L1 - L4*(sin(q1)*sin(q2) + cos(q1)*cos(q2)))**2/(L1**2*m1 + L2**2*m2) - L1**2 + 2*L1*L4*(sin(q1)*sin(q2) + cos(q1)*cos(q2)) - L4**2)) + L2**2*m2*(L2 + L3*(sin(q1)*sin(q3) + cos(q1)*cos(q3)))**2/(L1**2*m1 + L2**2*m2) - L2**2 - 2*L2*L3*(sin(q1)*sin(q3) + cos(q1)*cos(q3)) - L3**2)) + (L1**2*m1 - L1*L4*m1*(sin(q1)*sin(q2) + cos(q1)*cos(q2)))**2/(m1*(-L1**2*m1 - L2**2*m2)**2*(L1**2*m1*(L1 - L4*(sin(q1)*sin(q2) + cos(q1)*cos(q2)))**2/(L1**2*m1 + L2**2*m2) - L1**2 + 2*L1*L4*(sin(q1)*sin(q2) + cos(q1)*cos(q2)) - L4**2)))*(-L1*L4*m1*(-sin(q1)*cos(q2) + sin(q2)*cos(q1))*u2**2 + L1*g*m1*sin(q1) + L2*L3*m2*(-sin(q1)*cos(q3) + sin(q3)*cos(q1))*u3**2 - L2*g*m2*sin(q1)) - ((L2**2*m2 + L2*L3*m2*(sin(q1)*sin(q3) + cos(q1)*cos(q3)))/(-L1**2*m1 - L2**2*m2) + (L1**2*m1 - L1*L4*m1*(sin(q1)*sin(q2) + cos(q1)*cos(q2)))**2*(L2**2*m2 + L2*L3*m2*(sin(q1)*sin(q3) + cos(q1)*cos(q3)))/(m1*(-L1**2*m1 - L2**2*m2)**2*(L1**2*m1*(L1 - L4*(sin(q1)*sin(q2) + cos(q1)*cos(q2)))**2/(L1**2*m1 + L2**2*m2) - L1**2 + 2*L1*L4*(sin(q1)*sin(q2) + cos(q1)*cos(q2)) - L4**2)))*(-L2*L3*m2*(-sin(q1)*cos(q3) + sin(q3)*cos(q1))*u3**2 + L2*g*m2*sin(q1) + L3*g*m2*sin(q3) - L3*m2*(-L2*u1 + L2*u3)*(sin(q1)*cos(q3) - sin(q3)*cos(q1))*u1)/(m2*(-L1**2*L2**2*m1*m2*(L1 - L4*(sin(q1)*sin(q2) + cos(q1)*cos(q2)))**2*(L2 + L3*(sin(q1)*sin(q3) + cos(q1)*cos(q3)))**2/((L1**2*m1 + L2**2*m2)**2*(L1**2*m1*(L1 - L4*(sin(q1)*sin(q2) + cos(q1)*cos(q2)))**2/(L1**2*m1 + L2**2*m2) - L1**2 + 2*L1*L4*(sin(q1)*sin(q2) + cos(q1)*cos(q2)) - L4**2)) + L2**2*m2*(L2 + L3*(sin(q1)*sin(q3) + cos(q1)*cos(q3)))**2/(L1**2*m1 + L2**2*m2) - L2**2 - 2*L2*L3*(sin(q1)*sin(q3) + cos(q1)*cos(q3)) - L3**2))\n",
      "    dydt[4] = (1/(m1*(L1**2*m1*(L1 - L4*(sin(q1)*sin(q2) + cos(q1)*cos(q2)))**2/(L1**2*m1 + L2**2*m2) - L1**2 + 2*L1*L4*(sin(q1)*sin(q2) + cos(q1)*cos(q2)) - L4**2)) + (L1**2*m1 - L1*L4*m1*(sin(q1)*sin(q2) + cos(q1)*cos(q2)))**2*(L2**2*m2 + L2*L3*m2*(sin(q1)*sin(q3) + cos(q1)*cos(q3)))**2/(m1**2*m2*(-L1**2*m1 - L2**2*m2)**2*(L1**2*m1*(L1 - L4*(sin(q1)*sin(q2) + cos(q1)*cos(q2)))**2/(L1**2*m1 + L2**2*m2) - L1**2 + 2*L1*L4*(sin(q1)*sin(q2) + cos(q1)*cos(q2)) - L4**2)**2*(-L1**2*L2**2*m1*m2*(L1 - L4*(sin(q1)*sin(q2) + cos(q1)*cos(q2)))**2*(L2 + L3*(sin(q1)*sin(q3) + cos(q1)*cos(q3)))**2/((L1**2*m1 + L2**2*m2)**2*(L1**2*m1*(L1 - L4*(sin(q1)*sin(q2) + cos(q1)*cos(q2)))**2/(L1**2*m1 + L2**2*m2) - L1**2 + 2*L1*L4*(sin(q1)*sin(q2) + cos(q1)*cos(q2)) - L4**2)) + L2**2*m2*(L2 + L3*(sin(q1)*sin(q3) + cos(q1)*cos(q3)))**2/(L1**2*m1 + L2**2*m2) - L2**2 - 2*L2*L3*(sin(q1)*sin(q3) + cos(q1)*cos(q3)) - L3**2)))*(L1*L4*m1*(-sin(q1)*cos(q2) + sin(q2)*cos(q1))*u2**2 - L1*g*m1*sin(q1) + L4*g*m1*sin(q2) - L4*m1*(L1*u1 - L1*u2)*(sin(q1)*cos(q2) - sin(q2)*cos(q1))*u1) + (-(L1**2*m1 - L1*L4*m1*(sin(q1)*sin(q2) + cos(q1)*cos(q2)))/(m1*(-L1**2*m1 - L2**2*m2)*(L1**2*m1*(L1 - L4*(sin(q1)*sin(q2) + cos(q1)*cos(q2)))**2/(L1**2*m1 + L2**2*m2) - L1**2 + 2*L1*L4*(sin(q1)*sin(q2) + cos(q1)*cos(q2)) - L4**2)) + (L1**2*m1 - L1*L4*m1*(sin(q1)*sin(q2) + cos(q1)*cos(q2)))*(L2**2*m2 + L2*L3*m2*(sin(q1)*sin(q3) + cos(q1)*cos(q3)))*(-(L2**2*m2 + L2*L3*m2*(sin(q1)*sin(q3) + cos(q1)*cos(q3)))/(-L1**2*m1 - L2**2*m2) - (L1**2*m1 - L1*L4*m1*(sin(q1)*sin(q2) + cos(q1)*cos(q2)))**2*(L2**2*m2 + L2*L3*m2*(sin(q1)*sin(q3) + cos(q1)*cos(q3)))/(m1*(-L1**2*m1 - L2**2*m2)**2*(L1**2*m1*(L1 - L4*(sin(q1)*sin(q2) + cos(q1)*cos(q2)))**2/(L1**2*m1 + L2**2*m2) - L1**2 + 2*L1*L4*(sin(q1)*sin(q2) + cos(q1)*cos(q2)) - L4**2)))/(m1*m2*(-L1**2*m1 - L2**2*m2)*(L1**2*m1*(L1 - L4*(sin(q1)*sin(q2) + cos(q1)*cos(q2)))**2/(L1**2*m1 + L2**2*m2) - L1**2 + 2*L1*L4*(sin(q1)*sin(q2) + cos(q1)*cos(q2)) - L4**2)*(-L1**2*L2**2*m1*m2*(L1 - L4*(sin(q1)*sin(q2) + cos(q1)*cos(q2)))**2*(L2 + L3*(sin(q1)*sin(q3) + cos(q1)*cos(q3)))**2/((L1**2*m1 + L2**2*m2)**2*(L1**2*m1*(L1 - L4*(sin(q1)*sin(q2) + cos(q1)*cos(q2)))**2/(L1**2*m1 + L2**2*m2) - L1**2 + 2*L1*L4*(sin(q1)*sin(q2) + cos(q1)*cos(q2)) - L4**2)) + L2**2*m2*(L2 + L3*(sin(q1)*sin(q3) + cos(q1)*cos(q3)))**2/(L1**2*m1 + L2**2*m2) - L2**2 - 2*L2*L3*(sin(q1)*sin(q3) + cos(q1)*cos(q3)) - L3**2)))*(-L1*L4*m1*(-sin(q1)*cos(q2) + sin(q2)*cos(q1))*u2**2 + L1*g*m1*sin(q1) + L2*L3*m2*(-sin(q1)*cos(q3) + sin(q3)*cos(q1))*u3**2 - L2*g*m2*sin(q1)) + (L1**2*m1 - L1*L4*m1*(sin(q1)*sin(q2) + cos(q1)*cos(q2)))*(L2**2*m2 + L2*L3*m2*(sin(q1)*sin(q3) + cos(q1)*cos(q3)))*(-L2*L3*m2*(-sin(q1)*cos(q3) + sin(q3)*cos(q1))*u3**2 + L2*g*m2*sin(q1) + L3*g*m2*sin(q3) - L3*m2*(-L2*u1 + L2*u3)*(sin(q1)*cos(q3) - sin(q3)*cos(q1))*u1)/(m1*m2*(-L1**2*m1 - L2**2*m2)*(L1**2*m1*(L1 - L4*(sin(q1)*sin(q2) + cos(q1)*cos(q2)))**2/(L1**2*m1 + L2**2*m2) - L1**2 + 2*L1*L4*(sin(q1)*sin(q2) + cos(q1)*cos(q2)) - L4**2)*(-L1**2*L2**2*m1*m2*(L1 - L4*(sin(q1)*sin(q2) + cos(q1)*cos(q2)))**2*(L2 + L3*(sin(q1)*sin(q3) + cos(q1)*cos(q3)))**2/((L1**2*m1 + L2**2*m2)**2*(L1**2*m1*(L1 - L4*(sin(q1)*sin(q2) + cos(q1)*cos(q2)))**2/(L1**2*m1 + L2**2*m2) - L1**2 + 2*L1*L4*(sin(q1)*sin(q2) + cos(q1)*cos(q2)) - L4**2)) + L2**2*m2*(L2 + L3*(sin(q1)*sin(q3) + cos(q1)*cos(q3)))**2/(L1**2*m1 + L2**2*m2) - L2**2 - 2*L2*L3*(sin(q1)*sin(q3) + cos(q1)*cos(q3)) - L3**2))\n",
      "    dydt[5] = (-(L2**2*m2 + L2*L3*m2*(sin(q1)*sin(q3) + cos(q1)*cos(q3)))/(-L1**2*m1 - L2**2*m2) - (L1**2*m1 - L1*L4*m1*(sin(q1)*sin(q2) + cos(q1)*cos(q2)))**2*(L2**2*m2 + L2*L3*m2*(sin(q1)*sin(q3) + cos(q1)*cos(q3)))/(m1*(-L1**2*m1 - L2**2*m2)**2*(L1**2*m1*(L1 - L4*(sin(q1)*sin(q2) + cos(q1)*cos(q2)))**2/(L1**2*m1 + L2**2*m2) - L1**2 + 2*L1*L4*(sin(q1)*sin(q2) + cos(q1)*cos(q2)) - L4**2)))*(-L1*L4*m1*(-sin(q1)*cos(q2) + sin(q2)*cos(q1))*u2**2 + L1*g*m1*sin(q1) + L2*L3*m2*(-sin(q1)*cos(q3) + sin(q3)*cos(q1))*u3**2 - L2*g*m2*sin(q1))/(m2*(-L1**2*L2**2*m1*m2*(L1 - L4*(sin(q1)*sin(q2) + cos(q1)*cos(q2)))**2*(L2 + L3*(sin(q1)*sin(q3) + cos(q1)*cos(q3)))**2/((L1**2*m1 + L2**2*m2)**2*(L1**2*m1*(L1 - L4*(sin(q1)*sin(q2) + cos(q1)*cos(q2)))**2/(L1**2*m1 + L2**2*m2) - L1**2 + 2*L1*L4*(sin(q1)*sin(q2) + cos(q1)*cos(q2)) - L4**2)) + L2**2*m2*(L2 + L3*(sin(q1)*sin(q3) + cos(q1)*cos(q3)))**2/(L1**2*m1 + L2**2*m2) - L2**2 - 2*L2*L3*(sin(q1)*sin(q3) + cos(q1)*cos(q3)) - L3**2)) + (-L2*L3*m2*(-sin(q1)*cos(q3) + sin(q3)*cos(q1))*u3**2 + L2*g*m2*sin(q1) + L3*g*m2*sin(q3) - L3*m2*(-L2*u1 + L2*u3)*(sin(q1)*cos(q3) - sin(q3)*cos(q1))*u1)/(m2*(-L1**2*L2**2*m1*m2*(L1 - L4*(sin(q1)*sin(q2) + cos(q1)*cos(q2)))**2*(L2 + L3*(sin(q1)*sin(q3) + cos(q1)*cos(q3)))**2/((L1**2*m1 + L2**2*m2)**2*(L1**2*m1*(L1 - L4*(sin(q1)*sin(q2) + cos(q1)*cos(q2)))**2/(L1**2*m1 + L2**2*m2) - L1**2 + 2*L1*L4*(sin(q1)*sin(q2) + cos(q1)*cos(q2)) - L4**2)) + L2**2*m2*(L2 + L3*(sin(q1)*sin(q3) + cos(q1)*cos(q3)))**2/(L1**2*m1 + L2**2*m2) - L2**2 - 2*L2*L3*(sin(q1)*sin(q3) + cos(q1)*cos(q3)) - L3**2)) + (L1**2*m1 - L1*L4*m1*(sin(q1)*sin(q2) + cos(q1)*cos(q2)))*(L2**2*m2 + L2*L3*m2*(sin(q1)*sin(q3) + cos(q1)*cos(q3)))*(L1*L4*m1*(-sin(q1)*cos(q2) + sin(q2)*cos(q1))*u2**2 - L1*g*m1*sin(q1) + L4*g*m1*sin(q2) - L4*m1*(L1*u1 - L1*u2)*(sin(q1)*cos(q2) - sin(q2)*cos(q1))*u1)/(m1*m2*(-L1**2*m1 - L2**2*m2)*(L1**2*m1*(L1 - L4*(sin(q1)*sin(q2) + cos(q1)*cos(q2)))**2/(L1**2*m1 + L2**2*m2) - L1**2 + 2*L1*L4*(sin(q1)*sin(q2) + cos(q1)*cos(q2)) - L4**2)*(-L1**2*L2**2*m1*m2*(L1 - L4*(sin(q1)*sin(q2) + cos(q1)*cos(q2)))**2*(L2 + L3*(sin(q1)*sin(q3) + cos(q1)*cos(q3)))**2/((L1**2*m1 + L2**2*m2)**2*(L1**2*m1*(L1 - L4*(sin(q1)*sin(q2) + cos(q1)*cos(q2)))**2/(L1**2*m1 + L2**2*m2) - L1**2 + 2*L1*L4*(sin(q1)*sin(q2) + cos(q1)*cos(q2)) - L4**2)) + L2**2*m2*(L2 + L3*(sin(q1)*sin(q3) + cos(q1)*cos(q3)))**2/(L1**2*m1 + L2**2*m2) - L2**2 - 2*L2*L3*(sin(q1)*sin(q3) + cos(q1)*cos(q3)) - L3**2))\n",
      "\n",
      "    # Return the derivatives.\n",
      "    return dydt"
     ],
     "language": "python",
     "metadata": {},
     "outputs": [],
     "prompt_number": 100
    },
    {
     "cell_type": "markdown",
     "metadata": {},
     "source": [
      "Specify the lengths, masses and acceleration due to gravity\n",
      "L1, L2, L3, L4, m1, m2, g)"
     ]
    },
    {
     "cell_type": "code",
     "collapsed": false,
     "input": [
      "parameters = (0.08702, 1.0, 0.8145, 0.18952, 209.98, 0.2, 9.8)"
     ],
     "language": "python",
     "metadata": {},
     "outputs": [],
     "prompt_number": 101
    },
    {
     "cell_type": "markdown",
     "metadata": {},
     "source": [
      "Specify initial conditions for the states"
     ]
    },
    {
     "cell_type": "code",
     "collapsed": false,
     "input": [
      "y0 = [3*math.pi/4.0, 0.0, math.pi/2., 0.0, 0.0, 0.0]"
     ],
     "language": "python",
     "metadata": {},
     "outputs": [],
     "prompt_number": 102
    },
    {
     "cell_type": "markdown",
     "metadata": {},
     "source": [
      "Create a time vector"
     ]
    },
    {
     "cell_type": "code",
     "collapsed": false,
     "input": [
      "t = linspace(0,1, num=int(1/0.005)+1)"
     ],
     "language": "python",
     "metadata": {},
     "outputs": [],
     "prompt_number": 103
    },
    {
     "cell_type": "markdown",
     "metadata": {},
     "source": [
      "Integrate the equations of motion"
     ]
    },
    {
     "cell_type": "code",
     "collapsed": false,
     "input": [
      "y = odeint(rhs, y0, t, parameters)\n",
      "y[:,0]"
     ],
     "language": "python",
     "metadata": {},
     "outputs": [
      {
       "output_type": "pyout",
       "prompt_number": 104,
       "text": [
        "\n",
        "[  2.35619449e+00   2.35369012e+00   2.34621106e+00   2.33385776e+00\n",
        "   2.31679167e+00   2.29522709e+00   2.26942097e+00   2.23966161e+00\n",
        "   2.20625737e+00   2.16952588e+00   2.12978458e+00   2.08734266e+00\n",
        "   2.04249462e+00   1.99551534e+00   1.94665642e+00   1.89614371e+00\n",
        "   1.84417557e+00   1.79092171e+00   1.73652241e+00   1.68108782e+00\n",
        "   1.62469701e+00   1.56739679e+00   1.50919973e+00   1.45008112e+00\n",
        "   1.38997428e+00   1.32876348e+00   1.26627282e+00   1.20224910e+00\n",
        "   1.13633399e+00   1.06801759e+00   9.96555701e-01   9.20810455e-01\n",
        "   8.38905532e-01   7.47337950e-01   6.37882387e-01   4.74050085e-01\n",
        "   1.37321886e-01   9.22793541e-03  -9.24256138e-02  -1.82781064e-01\n",
        "  -2.67117889e-01  -3.48067191e-01  -4.27191591e-01  -5.05523262e-01\n",
        "  -5.83792406e-01  -6.62537865e-01  -7.42164934e-01  -8.22976421e-01\n",
        "  -9.05188715e-01  -9.88938605e-01  -1.07428389e+00  -1.16119947e+00\n",
        "  -1.24957006e+00  -1.33918024e+00  -1.42970275e+00  -1.52068599e+00\n",
        "  -1.61154234e+00  -1.70153917e+00  -1.78979599e+00  -1.87529147e+00\n",
        "  -1.95688559e+00  -2.03336160e+00  -2.10349086e+00  -2.16611875e+00\n",
        "  -2.22026241e+00  -2.26520353e+00  -2.30055512e+00  -2.32628534e+00\n",
        "  -2.34269272e+00  -2.35034134e+00  -2.34997412e+00  -2.34242438e+00\n",
        "  -2.32854070e+00  -2.30913211e+00  -2.28493411e+00  -2.25659203e+00\n",
        "  -2.22465644e+00  -2.18958628e+00  -2.15175577e+00  -2.11146281e+00\n",
        "  -2.06893711e+00  -2.02434726e+00  -1.97780611e+00  -1.92937415e+00\n",
        "  -1.87906057e+00  -1.82682151e+00  -1.77255468e+00  -1.71608906e+00\n",
        "  -1.65716700e+00  -1.59541415e+00  -1.53028772e+00  -1.46098319e+00\n",
        "  -1.38625267e+00  -1.30400740e+00  -1.21027756e+00  -1.09548186e+00\n",
        "  -9.12617959e-01  -5.55652318e-01  -4.22772750e-01  -3.15927810e-01\n",
        "  -2.19653613e-01  -1.28218430e-01  -3.85595699e-02   5.13335203e-02\n",
        "   1.42987888e-01   2.37700788e-01   3.36674754e-01   4.41102090e-01\n",
        "   5.52227111e-01   6.71399958e-01   8.00129719e-01   9.40141008e-01\n",
        "   1.09343242e+00   1.26231645e+00   1.44935026e+00   1.65680209e+00\n",
        "   1.88441229e+00   2.12288186e+00   2.34820633e+00   2.53926375e+00\n",
        "   2.69149117e+00   2.76745001e+00   2.92305870e+00   3.09983770e+00\n",
        "   3.28635693e+00   3.47489162e+00   3.66013729e+00   3.83912975e+00\n",
        "   4.01055536e+00   4.17409762e+00   4.33001241e+00   4.47888818e+00\n",
        "   4.62152153e+00   4.75886381e+00   4.89201795e+00   5.02228416e+00\n",
        "   5.15127610e+00   5.28117626e+00   5.41534188e+00   5.56006441e+00\n",
        "   5.73235756e+00   6.14277289e+00   6.36625024e+00   6.52383593e+00\n",
        "   6.66431139e+00   6.79820916e+00   6.93017809e+00   7.06286330e+00\n",
        "   7.19797230e+00   7.33665390e+00   7.47963396e+00   7.62723906e+00\n",
        "   7.77935708e+00   7.93535983e+00   8.09400721e+00   8.25333136e+00\n",
        "   8.41026572e+00   8.55500492e+00   8.69333956e+00   8.85109966e+00\n",
        "   9.01954560e+00   9.20155657e+00   9.40486237e+00   9.64594388e+00\n",
        "   9.94485807e+00   1.02643799e+01   1.05500038e+01   1.07996730e+01\n",
        "   1.10212817e+01   1.12205768e+01   1.14014930e+01   1.15669290e+01\n",
        "   1.17191804e+01   1.18601678e+01   1.19915661e+01   1.21148886e+01\n",
        "   1.22315534e+01   1.23429479e+01   1.24505095e+01   1.25558469e+01\n",
        "   1.26609575e+01   1.27686957e+01   1.28840235e+01   1.30188338e+01\n",
        "   1.32510323e+01   1.35137323e+01   1.36304492e+01   1.37200058e+01\n",
        "   1.37947555e+01   1.38589412e+01   1.39144100e+01   1.39621910e+01\n",
        "   1.40087326e+01   1.40488868e+01   1.40879046e+01   1.41275191e+01\n",
        "   1.41676119e+01   1.42079839e+01   1.42484418e+01   1.42887987e+01\n",
        "                            1.43288655e+01]                         "
       ]
      }
     ],
     "prompt_number": 104
    },
    {
     "cell_type": "code",
     "collapsed": false,
     "input": [
      "fig = plt.figure()\n",
      "ax = fig.add_subplot(1, 1, 1)\n",
      "ax.plot(t, y[:,0])\n",
      "ax.plot(t, y[:,1])\n",
      "ax.plot(t, y[:,2])\n",
      "ax.set_title('Trebuchet as Hinged Counterweight with Sling')\n",
      "ax.set_xlabel('Time (s)')\n",
      "ax.set_ylabel('Angle(rad)')\n",
      "ax.legend([r'$\\theta$', r'$\\phi$', r'$\\psi$'])\n",
      "plt.show()"
     ],
     "language": "python",
     "metadata": {},
     "outputs": [
      {
       "output_type": "display_data",
       "png": "[encoded data removed]"
      }
     ],
     "prompt_number": 111
    },
    {
     "cell_type": "code",
     "collapsed": false,
     "input": [
      "fig = plt.figure()\n",
      "ax = fig.add_subplot(1, 1, 1)\n",
      "ax.plot(t, y[:,3])\n",
      "ax.plot(t, y[:,4])\n",
      "ax.plot(t, y[:,5])\n",
      "ax.set_title('Trebuchet as Hinged Counterweight with Sling')\n",
      "ax.set_xlabel('Time (s)')\n",
      "ax.set_ylabel(r'$Angular rate (\\frac{rad}{s})$')\n",
      "ax.legend([r'$\\theta^\\prime$', r'$\\phi^\\prime$', r'$\\psi^\\prime$'])\n",
      "plt.show()"
     ],
     "language": "python",
     "metadata": {},
     "outputs": [
      {
       "output_type": "display_data",
       "png": "[encoded data removed]"
      }
     ],
     "prompt_number": 112
    },
    {
     "cell_type": "markdown",
     "metadata": {},
     "source": [
      "Extract the maximums"
     ]
    },
    {
     "cell_type": "markdown",
     "metadata": {},
     "source": [
      "Tangential velocity"
     ]
    },
    {
     "cell_type": "code",
     "collapsed": false,
     "input": [],
     "language": "python",
     "metadata": {},
     "outputs": [],
     "prompt_number": 109
    }
   ],
   "metadata": {}
  }
 ]
}